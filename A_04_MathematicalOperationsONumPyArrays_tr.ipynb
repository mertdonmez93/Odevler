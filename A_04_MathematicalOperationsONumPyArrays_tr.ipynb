{
 "cells": [
  {
   "cell_type": "markdown",
   "metadata": {
    "id": "rdHUvS90_crO"
   },
   "source": [
    "**(1)** Load the array you saved in the previous lesson from the disk."
   ]
  },
  {
   "cell_type": "code",
   "execution_count": 1,
   "metadata": {
    "id": "MGrJxEB8_cra"
   },
   "outputs": [
    {
     "name": "stdout",
     "output_type": "stream",
     "text": [
      "[[ 1.      1.      1.      1.      1.    ]\n",
      " [ 0.     36.0535 31.2135 36.68    5.2   ]\n",
      " [ 0.     37.1958 30.6241 50.33    4.8   ]\n",
      " [ 0.     37.3773 36.3855 10.53    4.8   ]\n",
      " [ 0.     35.8861 26.0695 28.49    4.9   ]\n",
      " [ 0.     37.6546 26.6698  4.5     4.5   ]\n",
      " [ 0.     37.5318 29.848  17.58    4.6   ]\n",
      " [ 0.     39.0388 44.1533  7.52    4.5   ]]\n"
     ]
    }
   ],
   "source": [
    "import pandas as pd\n",
    "import numpy as np\n",
    "array_yeni = np.load(\"new_array.npy\")\n",
    "print(array_yeni)"
   ]
  },
  {
   "cell_type": "markdown",
   "metadata": {
    "id": "ecvcpufR_crb"
   },
   "source": [
    "**(2)** Display the mean and the standard deviation for each column."
   ]
  },
  {
   "cell_type": "code",
   "execution_count": 14,
   "metadata": {
    "id": "2NVjQdaM_crb"
   },
   "outputs": [
    {
     "name": "stdout",
     "output_type": "stream",
     "text": [
      "Mean:  [ 0.125     32.7172375 28.2454625 19.57875    4.2875   ]\n",
      "Stdev:  [ 0.33071891 12.02314907 11.65057695 16.28392416  1.26138565]\n"
     ]
    }
   ],
   "source": [
    "print(\"Mean: \",np.mean(array_yeni,axis=0))\n",
    "print(\"Stdev: \",np.std(array_yeni,axis=0))"
   ]
  },
  {
   "cell_type": "markdown",
   "metadata": {
    "id": "UHKRbwjW_crc"
   },
   "source": [
    "**(3)** Subtract 1, 25, 25, 10, 4 from columns in order. (Remember it can be subtracted in one line of code.)"
   ]
  },
  {
   "cell_type": "code",
   "execution_count": 20,
   "metadata": {
    "id": "40PA9Myl_crc"
   },
   "outputs": [
    {
     "name": "stdout",
     "output_type": "stream",
     "text": [
      "[[  0.     -24.     -24.      -9.      -3.    ]\n",
      " [ -1.      11.0535   6.2135  26.68     1.2   ]\n",
      " [ -1.      12.1958   5.6241  40.33     0.8   ]\n",
      " [ -1.      12.3773  11.3855   0.53     0.8   ]\n",
      " [ -1.      10.8861   1.0695  18.49     0.9   ]\n",
      " [ -1.      12.6546   1.6698  -5.5      0.5   ]\n",
      " [ -1.      12.5318   4.848    7.58     0.6   ]\n",
      " [ -1.      14.0388  19.1533  -2.48     0.5   ]]\n"
     ]
    }
   ],
   "source": [
    "array_1 = np.array([1,25,25,10,4])\n",
    "print(array_yeni-array_1)"
   ]
  },
  {
   "cell_type": "markdown",
   "metadata": {
    "id": "oHE_uY09_crc"
   },
   "source": [
    "**(4)** Multiply each element by 2. (Remember it can be multiplied in one line of code.)"
   ]
  },
  {
   "cell_type": "code",
   "execution_count": 21,
   "metadata": {
    "id": "2RIf9UND_crd"
   },
   "outputs": [
    {
     "name": "stdout",
     "output_type": "stream",
     "text": [
      "[[  2.       2.       2.       2.       2.    ]\n",
      " [  0.      72.107   62.427   73.36    10.4   ]\n",
      " [  0.      74.3916  61.2482 100.66     9.6   ]\n",
      " [  0.      74.7546  72.771   21.06     9.6   ]\n",
      " [  0.      71.7722  52.139   56.98     9.8   ]\n",
      " [  0.      75.3092  53.3396   9.       9.    ]\n",
      " [  0.      75.0636  59.696   35.16     9.2   ]\n",
      " [  0.      78.0776  88.3066  15.04     9.    ]]\n"
     ]
    }
   ],
   "source": [
    "print(array_yeni*2)"
   ]
  },
  {
   "cell_type": "code",
   "execution_count": null,
   "metadata": {},
   "outputs": [],
   "source": []
  }
 ],
 "metadata": {
  "colab": {
   "name": "A_04_MathematicalOperationsONumPyArrays_tr.ipynb",
   "provenance": []
  },
  "kernelspec": {
   "display_name": "Python 3",
   "language": "python",
   "name": "python3"
  },
  "language_info": {
   "codemirror_mode": {
    "name": "ipython",
    "version": 3
   },
   "file_extension": ".py",
   "mimetype": "text/x-python",
   "name": "python",
   "nbconvert_exporter": "python",
   "pygments_lexer": "ipython3",
   "version": "3.8.5"
  }
 },
 "nbformat": 4,
 "nbformat_minor": 4
}
