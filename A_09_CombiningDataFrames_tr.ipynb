{
 "cells": [
  {
   "cell_type": "markdown",
   "metadata": {
    "id": "zTOA3yGE7hox"
   },
   "source": [
    "For Pandas assignments, you are going to use [Titanic](https://www.kaggle.com/c/titanic/download/GQf0y8ebHO0C4JXscPPp%2Fversions%2FXkNkvXwqPPVG0Qt3MtQT%2Ffiles%2Ftrain.csv) (train.csv) dataset. Download the dataset and load to a data frame. We also need [test set](https://www.kaggle.com/c/titanic/download/GQf0y8ebHO0C4JXscPPp%2Fversions%2FXkNkvXwqPPVG0Qt3MtQT%2Ffiles%2Ftest.csv) (test.csv) for this assignment.\n",
    "\n",
    "**(1)** Read both datasets and concatenate test set to train set. Print lenght of new dataset."
   ]
  },
  {
   "cell_type": "code",
   "execution_count": 7,
   "metadata": {
    "id": "300Nm-D-Po51"
   },
   "outputs": [
    {
     "name": "stdout",
     "output_type": "stream",
     "text": [
      "1309\n"
     ]
    }
   ],
   "source": [
    "import pandas as pd\n",
    "import numpy as np\n",
    "train = pd.read_csv(\"train.csv\")\n",
    "test = pd.read_csv('test.csv')\n",
    "all_data = pd.concat([train,test])\n",
    "print(len(all_data))"
   ]
  },
  {
   "cell_type": "markdown",
   "metadata": {
    "id": "wxMB8TX2Po52"
   },
   "source": [
    "**(2)** Below are 2 groups of values for 2 datasets. The first one is for features and the second one is for target. Using these, create 2 data frames with the methods you have learned in the previous lessons. Then, merge them with all 4 methods and display lenghts of them.\n",
    "\n",
    "```  python\n",
    "id,age,sex,beats_per_sec,cholesterol\n",
    "1001,63,Male,145,233\n",
    "1001,37,Male,130,250\n",
    "1002,41,Female,130,204\n",
    "1002,56,Male,120,236\n",
    "1003,57,Female,120,354\n",
    "1004,57,Male,140,192\n",
    "1005,56,Female,140,294\n",
    "1006,44,Male,120,263\n",
    "1007,52,Male,172,199\n",
    "1007,57,Male,150,168\n",
    "1008,54,Male,140,239\n",
    "1008,48,Female,150,264\n",
    "\n",
    "\n",
    "id,target\n",
    "1001,0\n",
    "1002,1\n",
    "1004,0\n",
    "1005,1\n",
    "1007,0\n",
    "1008,1\n",
    "```"
   ]
  },
  {
   "cell_type": "code",
   "execution_count": 9,
   "metadata": {
    "id": "iTT8d1dcPo53"
   },
   "outputs": [],
   "source": [
    "features = pd.DataFrame({'id':[1001,1001,1002,1002,1003,1004,1005,1006,1007,1007,1008,1008],\n",
    "                         'age':[63,37,41,56,57,57,56,44,52,57,54,48],\n",
    "                         'sex':['Male','Male','Female','Male','Female','Male','Female','Male','Male','Male','Male','Female'],\n",
    "                         'beats_per_sec':[145,130,130,120,120,140,140,120,172,150,140,150],\n",
    "                         'cholesterol':[233,250,204,236,354,192,294,263,199,168,239,264]})\n",
    "target = pd.DataFrame({'id':[1001,1002,1004,1005,1007,1008],\n",
    "                      'target':[0,1,0,1,0,1]})"
   ]
  },
  {
   "cell_type": "code",
   "execution_count": 11,
   "metadata": {},
   "outputs": [
    {
     "data": {
      "text/html": [
       "<div>\n",
       "<style scoped>\n",
       "    .dataframe tbody tr th:only-of-type {\n",
       "        vertical-align: middle;\n",
       "    }\n",
       "\n",
       "    .dataframe tbody tr th {\n",
       "        vertical-align: top;\n",
       "    }\n",
       "\n",
       "    .dataframe thead th {\n",
       "        text-align: right;\n",
       "    }\n",
       "</style>\n",
       "<table border=\"1\" class=\"dataframe\">\n",
       "  <thead>\n",
       "    <tr style=\"text-align: right;\">\n",
       "      <th></th>\n",
       "      <th>id_x</th>\n",
       "      <th>age</th>\n",
       "      <th>sex</th>\n",
       "      <th>beats_per_sec</th>\n",
       "      <th>cholesterol</th>\n",
       "      <th>id_y</th>\n",
       "      <th>target</th>\n",
       "    </tr>\n",
       "  </thead>\n",
       "  <tbody>\n",
       "  </tbody>\n",
       "</table>\n",
       "</div>"
      ],
      "text/plain": [
       "Empty DataFrame\n",
       "Columns: [id_x, age, sex, beats_per_sec, cholesterol, id_y, target]\n",
       "Index: []"
      ]
     },
     "execution_count": 11,
     "metadata": {},
     "output_type": "execute_result"
    }
   ],
   "source": [
    "pd.merge(features,target,left_on='id',right_on='target')"
   ]
  },
  {
   "cell_type": "code",
   "execution_count": null,
   "metadata": {},
   "outputs": [],
   "source": []
  }
 ],
 "metadata": {
  "colab": {
   "name": "A_09_CombiningDataFrames_tr.ipynb",
   "provenance": []
  },
  "kernelspec": {
   "display_name": "Python 3",
   "language": "python",
   "name": "python3"
  },
  "language_info": {
   "codemirror_mode": {
    "name": "ipython",
    "version": 3
   },
   "file_extension": ".py",
   "mimetype": "text/x-python",
   "name": "python",
   "nbconvert_exporter": "python",
   "pygments_lexer": "ipython3",
   "version": "3.8.5"
  }
 },
 "nbformat": 4,
 "nbformat_minor": 4
}
