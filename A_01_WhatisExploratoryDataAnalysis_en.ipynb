{
  "nbformat": 4,
  "nbformat_minor": 0,
  "metadata": {
    "kernelspec": {
      "display_name": "Python 3",
      "language": "python",
      "name": "python3"
    },
    "language_info": {
      "codemirror_mode": {
        "name": "ipython",
        "version": 3
      },
      "file_extension": ".py",
      "mimetype": "text/x-python",
      "name": "python",
      "nbconvert_exporter": "python",
      "pygments_lexer": "ipython3",
      "version": "3.8.2"
    },
    "colab": {
      "name": "A_01_WhatisExploratoryDataAnalysis_en.ipynb",
      "provenance": [],
      "include_colab_link": true
    }
  },
  "cells": [
    {
      "cell_type": "markdown",
      "metadata": {
        "id": "view-in-github",
        "colab_type": "text"
      },
      "source": [
        "<a href=\"https://colab.research.google.com/github/mertdonmez93/Odevler/blob/main/A_01_WhatisExploratoryDataAnalysis_en.ipynb\" target=\"_parent\"><img src=\"https://colab.research.google.com/assets/colab-badge.svg\" alt=\"Open In Colab\"/></a>"
      ]
    },
    {
      "cell_type": "markdown",
      "metadata": {
        "id": "MHoZI7o-EYii"
      },
      "source": [
        "# <font color=blue>Assignments for \"What is Exploratory Data Analysis?\"</font>"
      ]
    },
    {
      "cell_type": "markdown",
      "metadata": {
        "id": "VRMOxKgIEYin"
      },
      "source": [
        "To complete this assignment, send the Github link of the Jupyter notebook file containing solutions to the following questions:"
      ]
    },
    {
      "cell_type": "markdown",
      "metadata": {
        "id": "WnBjbxSjEYio"
      },
      "source": [
        "**(1)** What is the purpose the data exploration?"
      ]
    },
    {
      "cell_type": "markdown",
      "metadata": {
        "id": "NXtjga5D6bcC"
      },
      "source": [
        "Before moving on to the modeling phase, we need to fully understand the data we work with. The better we understand our data, the more useful we can identify and extract the most useful features, which boost the performance of the model."
      ]
    },
    {
      "cell_type": "markdown",
      "metadata": {
        "id": "j5M6_TCzEYio"
      },
      "source": [
        "**(2)** Suppose you are working on a dataset containing customer reviews of an e-commerce company's products. Customer reviews collected through the company's website are rated between 1 and 5 depending on whether the content is positive or negative.\n",
        "    - What kind of problems do you expect to encounter in this raw data?\n",
        "    - What kind of problems do you expect to encounter in this raw data?\n",
        "    - If your task is to identify the characteristics that reveal that the customers' comments are positive or negative, how would you do that and what methods would you use for this?\n",
        "    - What are the useful features that can be extracted from raw data? How can you access this data and understand whether it is useful?"
      ]
    },
    {
      "cell_type": "code",
      "metadata": {
        "id": "2mY8_b5wEYip"
      },
      "source": [
        ""
      ],
      "execution_count": null,
      "outputs": []
    },
    {
      "cell_type": "markdown",
      "metadata": {
        "id": "NJ2wImyAEYip"
      },
      "source": [
        "**(3)** Why do you think missing values should be taking care of?"
      ]
    },
    {
      "cell_type": "markdown",
      "metadata": {
        "id": "2a-IMPKz7T7k"
      },
      "source": [
        "Most machine learning algorithms is not able to deal with missing values; hence, data needs to be converted into a clean version that is ready to be modeled."
      ]
    },
    {
      "cell_type": "markdown",
      "metadata": {
        "id": "_-57cBR2EYiq"
      },
      "source": [
        "**(4)** Do you think that outliers have an impact on a dataset? If so, how would you explain this impact?"
      ]
    },
    {
      "cell_type": "markdown",
      "metadata": {
        "id": "MfBddbqY8L8o"
      },
      "source": [
        "We need to get rid of the irrelevant and potentially misleading parts of this data and turn it into a form where we can easily work with."
      ]
    },
    {
      "cell_type": "markdown",
      "metadata": {
        "id": "tc-BMmaaEYiq"
      },
      "source": [
        "**(5)** Please briefly summarize you first actions when you start analyzing the data?"
      ]
    },
    {
      "cell_type": "markdown",
      "metadata": {
        "id": "MB3nsCsI_4TW"
      },
      "source": [
        "Variable Identification.\n",
        "Univariate Analysis.\n",
        "Bi-variate Analysis.\n",
        "Missing Values Treatment.\n",
        "Outlier Treatment.\n",
        "Variable Transformation.\n",
        "Variable Creation."
      ]
    }
  ]
}