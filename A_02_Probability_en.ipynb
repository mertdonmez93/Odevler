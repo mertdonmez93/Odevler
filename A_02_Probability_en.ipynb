{
 "cells": [
  {
   "cell_type": "markdown",
   "metadata": {
    "id": "UBFEOSfMVoBK"
   },
   "source": [
    "It has been found that some of the computers sold by Company A are defective. Assuming that there are 3 computer-producing companies (A, B, and C), the amount of computer production of these companies and the probabilities of defective production are as follows:\n",
    "\n",
    "Total production percentage : <br>\n",
    "$P(A)=0.40$<br>\n",
    "$P(B)=0.40$ <br>\n",
    "$P(C)=0.20$<br>\n",
    "\n",
    "Possibility of defective production :<br>\n",
    "$P(D|A)=0.015$<br>\n",
    "$P(D|B)=0.020$<br>\n",
    "$P(D|C)=0.010$\n",
    "\n",
    "- What is the probability that a randomly selected defective computer will be produced by company B?"
   ]
  },
  {
   "cell_type": "code",
   "execution_count": 8,
   "metadata": {
    "id": "wSrSn3BlVoBY"
   },
   "outputs": [
    {
     "data": {
      "text/plain": [
       "0.5"
      ]
     },
     "execution_count": 8,
     "metadata": {},
     "output_type": "execute_result"
    }
   ],
   "source": [
    "prob_d = 0.4*0.015+0.4*0.02+0.2*0.01\n",
    "defective_b = (0.4*0.020)/prob_d\n",
    "defective_b"
   ]
  },
  {
   "cell_type": "code",
   "execution_count": null,
   "metadata": {},
   "outputs": [],
   "source": []
  }
 ],
 "metadata": {
  "colab": {
   "name": "A_02_Probability_en.ipynb",
   "provenance": []
  },
  "kernelspec": {
   "display_name": "Python 3",
   "language": "python",
   "name": "python3"
  },
  "language_info": {
   "codemirror_mode": {
    "name": "ipython",
    "version": 3
   },
   "file_extension": ".py",
   "mimetype": "text/x-python",
   "name": "python",
   "nbconvert_exporter": "python",
   "pygments_lexer": "ipython3",
   "version": "3.8.5"
  }
 },
 "nbformat": 4,
 "nbformat_minor": 4
}
