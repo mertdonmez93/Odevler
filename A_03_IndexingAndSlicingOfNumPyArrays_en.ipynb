{
  "nbformat": 4,
  "nbformat_minor": 0,
  "metadata": {
    "kernelspec": {
      "display_name": "Python 3",
      "language": "python",
      "name": "python3"
    },
    "language_info": {
      "codemirror_mode": {
        "name": "ipython",
        "version": 3
      },
      "file_extension": ".py",
      "mimetype": "text/x-python",
      "name": "python",
      "nbconvert_exporter": "python",
      "pygments_lexer": "ipython3",
      "version": "3.8.2"
    },
    "colab": {
      "name": "A_03_IndexingAndSlicingOfNumPyArrays_en.ipynb",
      "provenance": [],
      "collapsed_sections": [],
      "include_colab_link": true
    }
  },
  "cells": [
    {
      "cell_type": "markdown",
      "metadata": {
        "id": "view-in-github",
        "colab_type": "text"
      },
      "source": [
        "<a href=\"https://colab.research.google.com/github/mertdonmez93/Odevler/blob/main/A_03_IndexingAndSlicingOfNumPyArrays_en.ipynb\" target=\"_parent\"><img src=\"https://colab.research.google.com/assets/colab-badge.svg\" alt=\"Open In Colab\"/></a>"
      ]
    },
    {
      "cell_type": "markdown",
      "metadata": {
        "id": "fLgaV_vXSj9o"
      },
      "source": [
        "For the assignment, you are going to use [Earthquakes](https://bootrain-lms-assets.s3.eu-central-1.amazonaws.com/bootrain-lms-static/datasets/Earthquakes.csv) dataset."
      ]
    },
    {
      "cell_type": "markdown",
      "metadata": {
        "id": "15b5dY9sSj9u"
      },
      "source": [
        "**(1)** Load the Earthquakes dataset. Export the dataset to an array as you covered in the previous lesson."
      ]
    },
    {
      "cell_type": "code",
      "metadata": {
        "id": "U2lQmuRgSj9v",
        "colab": {
          "base_uri": "https://localhost:8080/"
        },
        "outputId": "504e6c9e-fba1-4856-c2a4-beb972995a66"
      },
      "source": [
        "import pandas as pd\n",
        "import numpy as np\n",
        "earthquakes=pd.read_csv('https://bootrain-lms-assets.s3.eu-central-1.amazonaws.com/bootrain-lms-static/datasets/Earthquakes.csv')\n",
        "bt = np.array(earthquakes)\n",
        "print(bt)"
      ],
      "execution_count": 14,
      "outputs": [
        {
          "output_type": "stream",
          "text": [
            "[[1.000e+00 0.000e+00 0.000e+00 ... 4.100e+00 7.000e+00 0.000e+00]\n",
            " [2.000e+00 0.000e+00 0.000e+00 ... 4.400e+00 7.000e+00 0.000e+00]\n",
            " [3.000e+00 0.000e+00 0.000e+00 ... 4.000e+00 7.000e+00 0.000e+00]\n",
            " ...\n",
            " [6.571e+03 4.000e+00 0.000e+00 ... 4.800e+00 2.000e+00 0.000e+00]\n",
            " [6.572e+03 3.000e+00 0.000e+00 ... 5.200e+00 2.000e+00 0.000e+00]\n",
            " [6.573e+03 2.000e+00 0.000e+00 ... 4.400e+00 2.000e+00 0.000e+00]]\n"
          ],
          "name": "stdout"
        }
      ]
    },
    {
      "cell_type": "markdown",
      "metadata": {
        "id": "qANZqSzlSj9v"
      },
      "source": [
        "**(2)** Slice first 20 rows and column numbers 3, 5, 6, 7, 12. Then, assign the array you sliced to a variable."
      ]
    },
    {
      "cell_type": "code",
      "metadata": {
        "id": "XXPm1R3aSj9v",
        "colab": {
          "base_uri": "https://localhost:8080/"
        },
        "outputId": "9d7dceb8-8b26-4178-eafe-179facae8209"
      },
      "source": [
        "array_d = bt[0:20,[3,5,6,7,12]] \n",
        "print(array_d)"
      ],
      "execution_count": 35,
      "outputs": [
        {
          "output_type": "stream",
          "text": [
            "[[ 0.     37.4341 35.852   7.02    4.1   ]\n",
            " [ 0.     37.6878 37.4016 10.27    4.4   ]\n",
            " [ 0.     37.2003 30.4376 78.07    4.    ]\n",
            " [ 0.     35.6846 26.7266 42.77    4.5   ]\n",
            " [ 0.     36.4171 28.6991 14.86    4.1   ]\n",
            " [ 0.     36.0535 31.2135 36.68    5.2   ]\n",
            " [ 0.     37.1958 30.6241 50.33    4.8   ]\n",
            " [ 0.     36.9653 27.7633  6.93    4.3   ]\n",
            " [ 0.     38.893  26.4483 11.62    4.2   ]\n",
            " [ 0.     37.3773 36.3855 10.53    4.8   ]\n",
            " [ 0.     35.8861 26.0695 28.49    4.9   ]\n",
            " [ 0.     37.4635 36.3113 15.29    4.3   ]\n",
            " [ 0.     37.0201 36.0845 10.      4.1   ]\n",
            " [ 0.     37.6546 26.6698  4.5     4.5   ]\n",
            " [ 0.     37.5318 29.848  17.58    4.6   ]\n",
            " [ 0.     39.0388 44.1533  7.52    4.5   ]\n",
            " [ 0.     38.357  44.8686 10.05    4.1   ]\n",
            " [ 0.     35.7018 28.1495  6.25    4.1   ]\n",
            " [ 0.     37.6883 37.3968 10.63    4.1   ]\n",
            " [ 0.     42.1821 42.5928  5.81    4.    ]]\n"
          ],
          "name": "stdout"
        }
      ]
    },
    {
      "cell_type": "markdown",
      "metadata": {
        "id": "J-QCHxeYSj9w"
      },
      "source": [
        "**(3)** Display the row numbers where last values are equal to 4.5 or higher."
      ]
    },
    {
      "cell_type": "code",
      "metadata": {
        "id": "i6nAuhm1Sj9w",
        "colab": {
          "base_uri": "https://localhost:8080/"
        },
        "outputId": "46770318-e3b4-4fda-967c-bdffd23ffff0"
      },
      "source": [
        "print(array_d[array_d[:,4]>= 4.5])"
      ],
      "execution_count": 52,
      "outputs": [
        {
          "output_type": "stream",
          "text": [
            "[[ 0.     35.6846 26.7266 42.77    4.5   ]\n",
            " [ 0.     36.0535 31.2135 36.68    5.2   ]\n",
            " [ 0.     37.1958 30.6241 50.33    4.8   ]\n",
            " [ 0.     37.3773 36.3855 10.53    4.8   ]\n",
            " [ 0.     35.8861 26.0695 28.49    4.9   ]\n",
            " [ 0.     37.6546 26.6698  4.5     4.5   ]\n",
            " [ 0.     37.5318 29.848  17.58    4.6   ]\n",
            " [ 0.     39.0388 44.1533  7.52    4.5   ]]\n"
          ],
          "name": "stdout"
        }
      ]
    },
    {
      "cell_type": "markdown",
      "metadata": {
        "id": "JL_3gJJqSj9w"
      },
      "source": [
        "**(4)** Assign 1 to first row."
      ]
    },
    {
      "cell_type": "code",
      "metadata": {
        "id": "LvKP8W0aSj9w",
        "colab": {
          "base_uri": "https://localhost:8080/"
        },
        "outputId": "e6eb6d24-b6b7-47fa-fe46-fc6c840bbd72"
      },
      "source": [
        "last_array = array_d[array_d[:,4]>= 4.5]\n",
        "last_array[0:1,0:5] = 1\n",
        "print(last_array)"
      ],
      "execution_count": 60,
      "outputs": [
        {
          "output_type": "stream",
          "text": [
            "[[ 1.      1.      1.      1.      1.    ]\n",
            " [ 0.     36.0535 31.2135 36.68    5.2   ]\n",
            " [ 0.     37.1958 30.6241 50.33    4.8   ]\n",
            " [ 0.     37.3773 36.3855 10.53    4.8   ]\n",
            " [ 0.     35.8861 26.0695 28.49    4.9   ]\n",
            " [ 0.     37.6546 26.6698  4.5     4.5   ]\n",
            " [ 0.     37.5318 29.848  17.58    4.6   ]\n",
            " [ 0.     39.0388 44.1533  7.52    4.5   ]]\n"
          ],
          "name": "stdout"
        }
      ]
    },
    {
      "cell_type": "markdown",
      "metadata": {
        "id": "o7pY3bMdSj9x"
      },
      "source": [
        "**(5)** Save the final state of the array to disk. You are going to use this in the next assignment."
      ]
    },
    {
      "cell_type": "code",
      "metadata": {
        "id": "SR69q0N9Sj9x"
      },
      "source": [
        "np.save(\"new_array\",last_array)"
      ],
      "execution_count": 62,
      "outputs": []
    },
    {
      "cell_type": "code",
      "metadata": {
        "id": "ZyghWelN6gll"
      },
      "source": [
        ""
      ],
      "execution_count": null,
      "outputs": []
    }
  ]
}