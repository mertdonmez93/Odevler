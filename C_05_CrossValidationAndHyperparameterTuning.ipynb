{
 "cells": [
  {
   "cell_type": "markdown",
   "metadata": {},
   "source": [
    "# Assignment - Cross Validation & Hyperparameter Tuning"
   ]
  },
  {
   "cell_type": "markdown",
   "metadata": {},
   "source": [
    "In this assignment, you are going to measure the performance of the model you created with the Titanic dataset in the previous lesson. To complete this assignment, send a link to a Jupyter notebook containing solutions to the following tasks.\n",
    "\n",
    "* Evaluate your model's performance with cross validation and using different metrics.\n",
    "* Determine the model with the most appropriate parameters by hyperparameter tuning."
   ]
  },
  {
   "cell_type": "code",
   "execution_count": 1,
   "metadata": {},
   "outputs": [],
   "source": [
    "import pandas as pd\n",
    "import numpy as np\n",
    "train_data = pd.read_csv('titanic_train.csv')"
   ]
  },
  {
   "cell_type": "code",
   "execution_count": 2,
   "metadata": {},
   "outputs": [
    {
     "data": {
      "text/html": [
       "<div>\n",
       "<style scoped>\n",
       "    .dataframe tbody tr th:only-of-type {\n",
       "        vertical-align: middle;\n",
       "    }\n",
       "\n",
       "    .dataframe tbody tr th {\n",
       "        vertical-align: top;\n",
       "    }\n",
       "\n",
       "    .dataframe thead th {\n",
       "        text-align: right;\n",
       "    }\n",
       "</style>\n",
       "<table border=\"1\" class=\"dataframe\">\n",
       "  <thead>\n",
       "    <tr style=\"text-align: right;\">\n",
       "      <th></th>\n",
       "      <th>PassengerId</th>\n",
       "      <th>Survived</th>\n",
       "      <th>Pclass</th>\n",
       "      <th>Name</th>\n",
       "      <th>Sex</th>\n",
       "      <th>Age</th>\n",
       "      <th>SibSp</th>\n",
       "      <th>Parch</th>\n",
       "      <th>Ticket</th>\n",
       "      <th>Fare</th>\n",
       "      <th>Cabin</th>\n",
       "      <th>Embarked</th>\n",
       "    </tr>\n",
       "  </thead>\n",
       "  <tbody>\n",
       "    <tr>\n",
       "      <th>0</th>\n",
       "      <td>1</td>\n",
       "      <td>0</td>\n",
       "      <td>3</td>\n",
       "      <td>Braund, Mr. Owen Harris</td>\n",
       "      <td>male</td>\n",
       "      <td>22.0</td>\n",
       "      <td>1</td>\n",
       "      <td>0</td>\n",
       "      <td>A/5 21171</td>\n",
       "      <td>7.2500</td>\n",
       "      <td>NaN</td>\n",
       "      <td>S</td>\n",
       "    </tr>\n",
       "    <tr>\n",
       "      <th>1</th>\n",
       "      <td>2</td>\n",
       "      <td>1</td>\n",
       "      <td>1</td>\n",
       "      <td>Cumings, Mrs. John Bradley (Florence Briggs Th...</td>\n",
       "      <td>female</td>\n",
       "      <td>38.0</td>\n",
       "      <td>1</td>\n",
       "      <td>0</td>\n",
       "      <td>PC 17599</td>\n",
       "      <td>71.2833</td>\n",
       "      <td>C85</td>\n",
       "      <td>C</td>\n",
       "    </tr>\n",
       "    <tr>\n",
       "      <th>2</th>\n",
       "      <td>3</td>\n",
       "      <td>1</td>\n",
       "      <td>3</td>\n",
       "      <td>Heikkinen, Miss. Laina</td>\n",
       "      <td>female</td>\n",
       "      <td>26.0</td>\n",
       "      <td>0</td>\n",
       "      <td>0</td>\n",
       "      <td>STON/O2. 3101282</td>\n",
       "      <td>7.9250</td>\n",
       "      <td>NaN</td>\n",
       "      <td>S</td>\n",
       "    </tr>\n",
       "    <tr>\n",
       "      <th>3</th>\n",
       "      <td>4</td>\n",
       "      <td>1</td>\n",
       "      <td>1</td>\n",
       "      <td>Futrelle, Mrs. Jacques Heath (Lily May Peel)</td>\n",
       "      <td>female</td>\n",
       "      <td>35.0</td>\n",
       "      <td>1</td>\n",
       "      <td>0</td>\n",
       "      <td>113803</td>\n",
       "      <td>53.1000</td>\n",
       "      <td>C123</td>\n",
       "      <td>S</td>\n",
       "    </tr>\n",
       "    <tr>\n",
       "      <th>4</th>\n",
       "      <td>5</td>\n",
       "      <td>0</td>\n",
       "      <td>3</td>\n",
       "      <td>Allen, Mr. William Henry</td>\n",
       "      <td>male</td>\n",
       "      <td>35.0</td>\n",
       "      <td>0</td>\n",
       "      <td>0</td>\n",
       "      <td>373450</td>\n",
       "      <td>8.0500</td>\n",
       "      <td>NaN</td>\n",
       "      <td>S</td>\n",
       "    </tr>\n",
       "  </tbody>\n",
       "</table>\n",
       "</div>"
      ],
      "text/plain": [
       "   PassengerId  Survived  Pclass  \\\n",
       "0            1         0       3   \n",
       "1            2         1       1   \n",
       "2            3         1       3   \n",
       "3            4         1       1   \n",
       "4            5         0       3   \n",
       "\n",
       "                                                Name     Sex   Age  SibSp  \\\n",
       "0                            Braund, Mr. Owen Harris    male  22.0      1   \n",
       "1  Cumings, Mrs. John Bradley (Florence Briggs Th...  female  38.0      1   \n",
       "2                             Heikkinen, Miss. Laina  female  26.0      0   \n",
       "3       Futrelle, Mrs. Jacques Heath (Lily May Peel)  female  35.0      1   \n",
       "4                           Allen, Mr. William Henry    male  35.0      0   \n",
       "\n",
       "   Parch            Ticket     Fare Cabin Embarked  \n",
       "0      0         A/5 21171   7.2500   NaN        S  \n",
       "1      0          PC 17599  71.2833   C85        C  \n",
       "2      0  STON/O2. 3101282   7.9250   NaN        S  \n",
       "3      0            113803  53.1000  C123        S  \n",
       "4      0            373450   8.0500   NaN        S  "
      ]
     },
     "execution_count": 2,
     "metadata": {},
     "output_type": "execute_result"
    }
   ],
   "source": [
    "train_data.head()"
   ]
  },
  {
   "cell_type": "code",
   "execution_count": 3,
   "metadata": {},
   "outputs": [
    {
     "name": "stdout",
     "output_type": "stream",
     "text": [
      "<class 'pandas.core.frame.DataFrame'>\n",
      "RangeIndex: 891 entries, 0 to 890\n",
      "Data columns (total 12 columns):\n",
      " #   Column       Non-Null Count  Dtype  \n",
      "---  ------       --------------  -----  \n",
      " 0   PassengerId  891 non-null    int64  \n",
      " 1   Survived     891 non-null    int64  \n",
      " 2   Pclass       891 non-null    int64  \n",
      " 3   Name         891 non-null    object \n",
      " 4   Sex          891 non-null    object \n",
      " 5   Age          714 non-null    float64\n",
      " 6   SibSp        891 non-null    int64  \n",
      " 7   Parch        891 non-null    int64  \n",
      " 8   Ticket       891 non-null    object \n",
      " 9   Fare         891 non-null    float64\n",
      " 10  Cabin        204 non-null    object \n",
      " 11  Embarked     889 non-null    object \n",
      "dtypes: float64(2), int64(5), object(5)\n",
      "memory usage: 83.7+ KB\n"
     ]
    }
   ],
   "source": [
    "train_data.info()"
   ]
  },
  {
   "cell_type": "code",
   "execution_count": 4,
   "metadata": {},
   "outputs": [],
   "source": [
    "train_data['is_male'] = pd.get_dummies(train_data['Sex'],drop_first = True)\n",
    "train_data.drop(labels='Sex', axis=1, inplace=True)   "
   ]
  },
  {
   "cell_type": "code",
   "execution_count": 5,
   "metadata": {},
   "outputs": [
    {
     "name": "stdout",
     "output_type": "stream",
     "text": [
      "['S' 'C' 'Q' nan]\n"
     ]
    }
   ],
   "source": [
    "print(pd.unique(train_data[['Embarked']].values.ravel('K')))"
   ]
  },
  {
   "cell_type": "code",
   "execution_count": 6,
   "metadata": {},
   "outputs": [],
   "source": [
    "# C = Cherbourg\n",
    "# S = Southampton\n",
    "# Q = Queenstown\n",
    "train_data.Embarked = train_data.Embarked.replace('C', 1)\n",
    "train_data.Embarked = train_data.Embarked.replace('Q', 2)\n",
    "train_data.Embarked = train_data.Embarked.replace('S', 3)\n",
    "train_data.Embarked = train_data.Embarked.replace(np.nan, 0)"
   ]
  },
  {
   "cell_type": "code",
   "execution_count": 7,
   "metadata": {},
   "outputs": [],
   "source": [
    "train_data.dropna(subset=['Age'], how='all', inplace=True)"
   ]
  },
  {
   "cell_type": "code",
   "execution_count": 8,
   "metadata": {},
   "outputs": [
    {
     "name": "stdout",
     "output_type": "stream",
     "text": [
      "<class 'pandas.core.frame.DataFrame'>\n",
      "Int64Index: 714 entries, 0 to 890\n",
      "Data columns (total 12 columns):\n",
      " #   Column       Non-Null Count  Dtype  \n",
      "---  ------       --------------  -----  \n",
      " 0   PassengerId  714 non-null    int64  \n",
      " 1   Survived     714 non-null    int64  \n",
      " 2   Pclass       714 non-null    int64  \n",
      " 3   Name         714 non-null    object \n",
      " 4   Age          714 non-null    float64\n",
      " 5   SibSp        714 non-null    int64  \n",
      " 6   Parch        714 non-null    int64  \n",
      " 7   Ticket       714 non-null    object \n",
      " 8   Fare         714 non-null    float64\n",
      " 9   Cabin        185 non-null    object \n",
      " 10  Embarked     714 non-null    float64\n",
      " 11  is_male      714 non-null    uint8  \n",
      "dtypes: float64(3), int64(5), object(3), uint8(1)\n",
      "memory usage: 67.6+ KB\n"
     ]
    }
   ],
   "source": [
    "train_data.info()"
   ]
  },
  {
   "cell_type": "code",
   "execution_count": 9,
   "metadata": {},
   "outputs": [],
   "source": [
    "#Second model has been given the best result on the C_03_PerformanceMeasurementMetrics homework notebook.\n",
    "X = train_data[['Pclass','is_male','Age','Fare','Embarked']]\n",
    "y = train_data['Survived']"
   ]
  },
  {
   "cell_type": "code",
   "execution_count": 10,
   "metadata": {},
   "outputs": [],
   "source": [
    "from sklearn.model_selection import train_test_split\n",
    "\n",
    "X_train, X_test, y_train, y_test = train_test_split(X, y, test_size=0.2)"
   ]
  },
  {
   "cell_type": "code",
   "execution_count": 11,
   "metadata": {},
   "outputs": [
    {
     "name": "stdout",
     "output_type": "stream",
     "text": [
      "Number of data points in training set:  571  \n",
      "Number of targets in training set    :  571\n",
      "\n",
      "Number of data points in test set    :  143  \n",
      "Number of targets in test set        :  143  \n"
     ]
    }
   ],
   "source": [
    "print(\"Number of data points in training set:  {}  \".format(len(X_train)))\n",
    "print(\"Number of targets in training set    :  {}\\n\".format(len(y_train)))\n",
    "\n",
    "print(\"Number of data points in test set    :  {}  \".format(len(X_test)))\n",
    "print(\"Number of targets in test set        :  {}  \".format(len(y_test)))"
   ]
  },
  {
   "cell_type": "code",
   "execution_count": 12,
   "metadata": {},
   "outputs": [
    {
     "data": {
      "image/png": "[encoded data removed]",
      "text/plain": [
       "<Figure size 864x360 with 3 Axes>"
      ]
     },
     "metadata": {
      "needs_background": "light"
     },
     "output_type": "display_data"
    },
    {
     "name": "stdout",
     "output_type": "stream",
     "text": [
      "Proportion of '0' in all data     : %59 \n",
      "Proportion of '0' in training set : %59 \n",
      "Proportion of '0' in test set     : %62 \n"
     ]
    }
   ],
   "source": [
    "import warnings\n",
    "warnings.filterwarnings('ignore')\n",
    "import seaborn as sns\n",
    "import matplotlib.pyplot as plt\n",
    "plt.figure(figsize=(12,5))\n",
    "plt.style.use('fivethirtyeight')\n",
    "plt.subplots_adjust(wspace=0.4)\n",
    "\n",
    "plt.subplot(131)\n",
    "sns.countplot(y)\n",
    "plt.title(\"All Data\")\n",
    "\n",
    "plt.subplot(132)\n",
    "sns.countplot(y_train)\n",
    "plt.title(\"Training Set\")\n",
    "\n",
    "plt.subplot(133)\n",
    "sns.countplot(y_test)\n",
    "plt.title(\"Test Set\")\n",
    "\n",
    "plt.show()\n",
    "\n",
    "print(\"Proportion of '0' in all data     : %{:.0f} \".format(len(y[y==0])/len(y)*100))\n",
    "print(\"Proportion of '0' in training set : %{:.0f} \".format(len(y_train[y_train==0])/len(y_train)*100))\n",
    "print(\"Proportion of '0' in test set     : %{:.0f} \".format(len(y_test[y_test==0])/len(y_test)*100))"
   ]
  },
  {
   "cell_type": "code",
   "execution_count": 13,
   "metadata": {},
   "outputs": [
    {
     "name": "stdout",
     "output_type": "stream",
     "text": [
      "Proportion of '0' in all data     : %59 \n",
      "Proportion of '0' in training set : %59 \n",
      "Proportion of '0' in test set     : %59 \n"
     ]
    }
   ],
   "source": [
    "X_train, X_test, y_train, y_test = train_test_split(X, y, test_size=0.2, stratify=y)\n",
    "\n",
    "print(\"Proportion of '0' in all data     : %{:.0f} \".format(len(y[y==0])/len(y)*100))\n",
    "print(\"Proportion of '0' in training set : %{:.0f} \".format(len(y_train[y_train==0])/len(y_train)*100))\n",
    "print(\"Proportion of '0' in test set     : %{:.0f} \".format(len(y_test[y_test==0])/len(y_test)*100))"
   ]
  },
  {
   "cell_type": "code",
   "execution_count": 14,
   "metadata": {},
   "outputs": [
    {
     "data": {
      "text/plain": [
       "0.7832167832167832"
      ]
     },
     "execution_count": 14,
     "metadata": {},
     "output_type": "execute_result"
    }
   ],
   "source": [
    "from sklearn.linear_model import LogisticRegression\n",
    "\n",
    "model = LogisticRegression()\n",
    "model.fit(X_train, y_train)\n",
    "\n",
    "pred_train = model.predict(X_train)\n",
    "pred_test = model.predict(X_test)\n",
    "model.score(X_test, y_test)"
   ]
  },
  {
   "cell_type": "markdown",
   "metadata": {},
   "source": [
    "## 1.2.1. KFold Cross Validation"
   ]
  },
  {
   "cell_type": "code",
   "execution_count": 15,
   "metadata": {},
   "outputs": [],
   "source": [
    "from sklearn.model_selection import KFold\n",
    "\n",
    "kf = KFold(n_splits=5, shuffle=True, random_state=1111)"
   ]
  },
  {
   "cell_type": "code",
   "execution_count": 16,
   "metadata": {},
   "outputs": [
    {
     "name": "stdout",
     "output_type": "stream",
     "text": [
      "No.1 Train set size : 571\n",
      "No.1 Test set size     : 143\n",
      "---------------------------- \n",
      "\n",
      "No.2 Train set size : 571\n",
      "No.2 Test set size     : 143\n",
      "---------------------------- \n",
      "\n",
      "No.3 Train set size : 571\n",
      "No.3 Test set size     : 143\n",
      "---------------------------- \n",
      "\n",
      "No.4 Train set size : 571\n",
      "No.4 Test set size     : 143\n",
      "---------------------------- \n",
      "\n",
      "No.5 Train set size : 572\n",
      "No.5 Test set size     : 142\n",
      "---------------------------- \n",
      "\n"
     ]
    }
   ],
   "source": [
    "pieces = kf.split(X)\n",
    "\n",
    "for num, (train_index, test_index) in enumerate(pieces):\n",
    "    print(\"No.{} Train set size : {}\".format(num+1,len(train_index)))\n",
    "    print(\"No.{} Test set size     : {}\".format(num+1,len(test_index)))\n",
    "    print('-'*28, \"\\n\")"
   ]
  },
  {
   "cell_type": "code",
   "execution_count": 17,
   "metadata": {},
   "outputs": [
    {
     "name": "stdout",
     "output_type": "stream",
     "text": [
      "Piece No.1 score: 0.776\n",
      "----------------------- \n",
      "\n",
      "Piece No.2 score: 0.769\n",
      "----------------------- \n",
      "\n",
      "Piece No.3 score: 0.832\n",
      "----------------------- \n",
      "\n",
      "Piece No.4 score: 0.797\n",
      "----------------------- \n",
      "\n",
      "Piece No.5 score: 0.796\n",
      "----------------------- \n",
      "\n"
     ]
    }
   ],
   "source": [
    "from sklearn.metrics import mean_squared_error\n",
    "\n",
    "model2 = LogisticRegression()\n",
    "\n",
    "pieces = kf.split(X)\n",
    "score_list = []\n",
    "\n",
    "for i, (train_index, test_index) in enumerate(pieces):\n",
    "    X_train, X_test = X.iloc[train_index], X.iloc[test_index]\n",
    "    y_train, y_test = y.iloc[train_index], y.iloc[test_index]\n",
    "    \n",
    "    model2.fit(X_train, y_train)\n",
    "    \n",
    "    prediction = model2.predict(X_test)\n",
    "    \n",
    "    score = model.score(X_test, y_test)  \n",
    "    score_list.append(score)\n",
    "    \n",
    "    print(\"Piece No.{} score: {:.3f}\".format(i+1, score))\n",
    "    print(\"-\"*23, \"\\n\")"
   ]
  },
  {
   "cell_type": "code",
   "execution_count": 18,
   "metadata": {},
   "outputs": [
    {
     "name": "stdout",
     "output_type": "stream",
     "text": [
      "Mean score : 0.79\n"
     ]
    }
   ],
   "source": [
    "print(\"Mean score : {:.2f}\".format(np.mean(score_list)))"
   ]
  },
  {
   "cell_type": "markdown",
   "metadata": {},
   "source": [
    "## 1.2.2. Cross Validation with cross_val_score() and cross_validate()"
   ]
  },
  {
   "cell_type": "code",
   "execution_count": 19,
   "metadata": {},
   "outputs": [],
   "source": [
    "from sklearn.model_selection import cross_validate, cross_val_score"
   ]
  },
  {
   "cell_type": "code",
   "execution_count": 20,
   "metadata": {},
   "outputs": [
    {
     "name": "stdout",
     "output_type": "stream",
     "text": [
      "Train Scores :\n",
      "[0.80218069 0.80373832 0.79750779 0.78660436 0.79782271 0.79315708\n",
      " 0.79782271 0.79315708 0.79004666 0.79004666]\n",
      "--------------------------------------------------\n",
      "Test Scores     :\n",
      "[0.76388889 0.75       0.80555556 0.84722222 0.73239437 0.8028169\n",
      " 0.77464789 0.76056338 0.81690141 0.83098592]\n"
     ]
    }
   ],
   "source": [
    "log_reg_model = LogisticRegression()\n",
    "\n",
    "cv = cross_validate(estimator=log_reg_model,\n",
    "                    X=X,\n",
    "                    y=y,\n",
    "                    cv=10,\n",
    "                    return_train_score=True,\n",
    "                   )\n",
    "\n",
    "print('Train Scores :', cv['train_score'], sep = '\\n')\n",
    "print(\"-\"*50)\n",
    "print('Test Scores     :', cv['test_score'], sep = '\\n')"
   ]
  },
  {
   "cell_type": "code",
   "execution_count": 21,
   "metadata": {},
   "outputs": [
    {
     "name": "stdout",
     "output_type": "stream",
     "text": [
      "Mean score of train set :  0.7952084029786389\n",
      "Mean score of test set  :  0.7884976525821596\n"
     ]
    }
   ],
   "source": [
    "print('Mean score of train set : ', cv['train_score'].mean())\n",
    "print('Mean score of test set  : ', cv['test_score'].mean())"
   ]
  },
  {
   "cell_type": "code",
   "execution_count": 22,
   "metadata": {},
   "outputs": [],
   "source": [
    "cv = cross_validate(estimator=log_reg_model,\n",
    "                    X=X,\n",
    "                    y=y,\n",
    "                    cv=10,\n",
    "                    return_train_score=True,\n",
    "                    scoring = ['accuracy', 'precision', 'r2']\n",
    "                   )"
   ]
  },
  {
   "cell_type": "code",
   "execution_count": 23,
   "metadata": {},
   "outputs": [
    {
     "name": "stdout",
     "output_type": "stream",
     "text": [
      "Train Set Mean Accuracy  : 0.80  \n",
      "Train Set Mean R-square  : 0.15  \n",
      "Train Set Mean Precision : 0.76\n",
      "\n",
      "Test Set Mean Accuracy   : 0.79  \n",
      "Test Set Mean R-square   : 0.12  \n",
      "Test Set Mean Precision  : 0.76  \n"
     ]
    }
   ],
   "source": [
    "print('Train Set Mean Accuracy  : {:.2f}  '.format(cv['train_accuracy'].mean()))\n",
    "print('Train Set Mean R-square  : {:.2f}  '.format(cv['train_r2'].mean()))\n",
    "print('Train Set Mean Precision : {:.2f}\\n'.format(cv['train_precision'].mean()))\n",
    "\n",
    "print('Test Set Mean Accuracy   : {:.2f}  '.format(cv['test_accuracy'].mean()))\n",
    "print('Test Set Mean R-square   : {:.2f}  '.format(cv['test_r2'].mean()))\n",
    "print('Test Set Mean Precision  : {:.2f}  '.format(cv['test_precision'].mean()))"
   ]
  },
  {
   "cell_type": "code",
   "execution_count": 24,
   "metadata": {},
   "outputs": [
    {
     "name": "stdout",
     "output_type": "stream",
     "text": [
      "Model Scores : \n",
      "[0.76388889 0.75       0.80555556 0.84722222 0.73239437 0.8028169\n",
      " 0.77464789 0.76056338 0.81690141 0.83098592]\n"
     ]
    }
   ],
   "source": [
    "cv = cross_val_score(estimator=log_reg_model,\n",
    "                     X=X,\n",
    "                     y=y,\n",
    "                     cv=10,\n",
    "                    )\n",
    "\n",
    "print('Model Scores : ', cv, sep = '\\n')"
   ]
  },
  {
   "cell_type": "code",
   "execution_count": 25,
   "metadata": {},
   "outputs": [
    {
     "name": "stdout",
     "output_type": "stream",
     "text": [
      "[0 1 1 1 0 0 0 1 1 1]\n"
     ]
    }
   ],
   "source": [
    "from sklearn.model_selection import cross_val_predict\n",
    "\n",
    "y_pred = cross_val_predict(estimator=log_reg_model,\n",
    "                           X=X,\n",
    "                           y=y,\n",
    "                           cv=10,\n",
    "                          )\n",
    "print(y_pred[0:10])"
   ]
  },
  {
   "cell_type": "markdown",
   "metadata": {},
   "source": [
    "# 2. Hyperparameter Tuning"
   ]
  },
  {
   "cell_type": "code",
   "execution_count": 26,
   "metadata": {},
   "outputs": [
    {
     "name": "stdout",
     "output_type": "stream",
     "text": [
      "{'C': 1.0, 'class_weight': None, 'dual': False, 'fit_intercept': True, 'intercept_scaling': 1, 'l1_ratio': None, 'max_iter': 100, 'multi_class': 'auto', 'n_jobs': None, 'penalty': 'l2', 'random_state': None, 'solver': 'lbfgs', 'tol': 0.0001, 'verbose': 0, 'warm_start': False}\n"
     ]
    }
   ],
   "source": [
    "log_reg = LogisticRegression()\n",
    "\n",
    "print(log_reg.get_params())"
   ]
  },
  {
   "cell_type": "markdown",
   "metadata": {},
   "source": [
    "## 2.1. Grid Search"
   ]
  },
  {
   "cell_type": "code",
   "execution_count": 27,
   "metadata": {},
   "outputs": [],
   "source": [
    "parameters = {\"C\": [10 ** x for x in range (-5, 5, 1)],\n",
    "              \"penalty\": ['l1', 'l2']\n",
    "             }"
   ]
  },
  {
   "cell_type": "code",
   "execution_count": 28,
   "metadata": {},
   "outputs": [
    {
     "data": {
      "text/plain": [
       "GridSearchCV(cv=10, estimator=LogisticRegression(),\n",
       "             param_grid={'C': [1e-05, 0.0001, 0.001, 0.01, 0.1, 1, 10, 100,\n",
       "                               1000, 10000],\n",
       "                         'penalty': ['l1', 'l2']})"
      ]
     },
     "execution_count": 28,
     "metadata": {},
     "output_type": "execute_result"
    }
   ],
   "source": [
    "from sklearn.model_selection import GridSearchCV\n",
    "\n",
    "grid_cv = GridSearchCV(estimator=log_reg,\n",
    "                       param_grid = parameters,\n",
    "                       cv = 10\n",
    "                      )\n",
    "\n",
    "grid_cv.fit(X, y)"
   ]
  },
  {
   "cell_type": "code",
   "execution_count": 29,
   "metadata": {},
   "outputs": [
    {
     "name": "stdout",
     "output_type": "stream",
     "text": [
      "Best Parameters :  {'C': 0.1, 'penalty': 'l2'}\n",
      "Best Score      :  0.7942097026604069\n"
     ]
    }
   ],
   "source": [
    "print(\"Best Parameters : \", grid_cv.best_params_)\n",
    "print(\"Best Score      : \", grid_cv.best_score_)"
   ]
  },
  {
   "cell_type": "code",
   "execution_count": 30,
   "metadata": {},
   "outputs": [
    {
     "data": {
      "text/html": [
       "<div>\n",
       "<style scoped>\n",
       "    .dataframe tbody tr th:only-of-type {\n",
       "        vertical-align: middle;\n",
       "    }\n",
       "\n",
       "    .dataframe tbody tr th {\n",
       "        vertical-align: top;\n",
       "    }\n",
       "\n",
       "    .dataframe thead th {\n",
       "        text-align: right;\n",
       "    }\n",
       "</style>\n",
       "<table border=\"1\" class=\"dataframe\">\n",
       "  <thead>\n",
       "    <tr style=\"text-align: right;\">\n",
       "      <th></th>\n",
       "      <th>mean_fit_time</th>\n",
       "      <th>std_fit_time</th>\n",
       "      <th>mean_score_time</th>\n",
       "      <th>std_score_time</th>\n",
       "      <th>param_C</th>\n",
       "      <th>param_penalty</th>\n",
       "    </tr>\n",
       "  </thead>\n",
       "  <tbody>\n",
       "    <tr>\n",
       "      <th>0</th>\n",
       "      <td>0.000892</td>\n",
       "      <td>0.000294</td>\n",
       "      <td>0.000000</td>\n",
       "      <td>0.000000</td>\n",
       "      <td>1e-05</td>\n",
       "      <td>l1</td>\n",
       "    </tr>\n",
       "    <tr>\n",
       "      <th>1</th>\n",
       "      <td>0.010369</td>\n",
       "      <td>0.001961</td>\n",
       "      <td>0.002123</td>\n",
       "      <td>0.000272</td>\n",
       "      <td>1e-05</td>\n",
       "      <td>l2</td>\n",
       "    </tr>\n",
       "    <tr>\n",
       "      <th>2</th>\n",
       "      <td>0.000995</td>\n",
       "      <td>0.000230</td>\n",
       "      <td>0.000000</td>\n",
       "      <td>0.000000</td>\n",
       "      <td>0.0001</td>\n",
       "      <td>l1</td>\n",
       "    </tr>\n",
       "    <tr>\n",
       "      <th>3</th>\n",
       "      <td>0.009460</td>\n",
       "      <td>0.001263</td>\n",
       "      <td>0.001902</td>\n",
       "      <td>0.000224</td>\n",
       "      <td>0.0001</td>\n",
       "      <td>l2</td>\n",
       "    </tr>\n",
       "    <tr>\n",
       "      <th>4</th>\n",
       "      <td>0.000932</td>\n",
       "      <td>0.000210</td>\n",
       "      <td>0.000000</td>\n",
       "      <td>0.000000</td>\n",
       "      <td>0.001</td>\n",
       "      <td>l1</td>\n",
       "    </tr>\n",
       "  </tbody>\n",
       "</table>\n",
       "</div>"
      ],
      "text/plain": [
       "   mean_fit_time  std_fit_time  mean_score_time  std_score_time param_C  \\\n",
       "0       0.000892      0.000294         0.000000        0.000000   1e-05   \n",
       "1       0.010369      0.001961         0.002123        0.000272   1e-05   \n",
       "2       0.000995      0.000230         0.000000        0.000000  0.0001   \n",
       "3       0.009460      0.001263         0.001902        0.000224  0.0001   \n",
       "4       0.000932      0.000210         0.000000        0.000000   0.001   \n",
       "\n",
       "  param_penalty  \n",
       "0            l1  \n",
       "1            l2  \n",
       "2            l1  \n",
       "3            l2  \n",
       "4            l1  "
      ]
     },
     "metadata": {},
     "output_type": "display_data"
    },
    {
     "name": "stdout",
     "output_type": "stream",
     "text": [
      "<class 'pandas.core.frame.DataFrame'>\n",
      "RangeIndex: 20 entries, 0 to 19\n",
      "Data columns (total 20 columns):\n",
      " #   Column             Non-Null Count  Dtype  \n",
      "---  ------             --------------  -----  \n",
      " 0   mean_fit_time      20 non-null     float64\n",
      " 1   std_fit_time       20 non-null     float64\n",
      " 2   mean_score_time    20 non-null     float64\n",
      " 3   std_score_time     20 non-null     float64\n",
      " 4   param_C            20 non-null     object \n",
      " 5   param_penalty      20 non-null     object \n",
      " 6   params             20 non-null     object \n",
      " 7   split0_test_score  10 non-null     float64\n",
      " 8   split1_test_score  10 non-null     float64\n",
      " 9   split2_test_score  10 non-null     float64\n",
      " 10  split3_test_score  10 non-null     float64\n",
      " 11  split4_test_score  10 non-null     float64\n",
      " 12  split5_test_score  10 non-null     float64\n",
      " 13  split6_test_score  10 non-null     float64\n",
      " 14  split7_test_score  10 non-null     float64\n",
      " 15  split8_test_score  10 non-null     float64\n",
      " 16  split9_test_score  10 non-null     float64\n",
      " 17  mean_test_score    10 non-null     float64\n",
      " 18  std_test_score     10 non-null     float64\n",
      " 19  rank_test_score    20 non-null     int32  \n",
      "dtypes: float64(16), int32(1), object(3)\n",
      "memory usage: 3.2+ KB\n"
     ]
    }
   ],
   "source": [
    "import pandas as pd\n",
    "\n",
    "results = grid_cv.cv_results_\n",
    "\n",
    "df = pd.DataFrame(results)\n",
    "display(df.head().iloc[:,:6])\n",
    "df.info()"
   ]
  },
  {
   "cell_type": "code",
   "execution_count": 31,
   "metadata": {},
   "outputs": [
    {
     "data": {
      "text/html": [
       "<div>\n",
       "<style scoped>\n",
       "    .dataframe tbody tr th:only-of-type {\n",
       "        vertical-align: middle;\n",
       "    }\n",
       "\n",
       "    .dataframe tbody tr th {\n",
       "        vertical-align: top;\n",
       "    }\n",
       "\n",
       "    .dataframe thead th {\n",
       "        text-align: right;\n",
       "    }\n",
       "</style>\n",
       "<table border=\"1\" class=\"dataframe\">\n",
       "  <thead>\n",
       "    <tr style=\"text-align: right;\">\n",
       "      <th></th>\n",
       "      <th>param_penalty</th>\n",
       "      <th>param_C</th>\n",
       "      <th>mean_test_score</th>\n",
       "    </tr>\n",
       "  </thead>\n",
       "  <tbody>\n",
       "    <tr>\n",
       "      <th>9</th>\n",
       "      <td>l2</td>\n",
       "      <td>0.1</td>\n",
       "      <td>0.794210</td>\n",
       "    </tr>\n",
       "    <tr>\n",
       "      <th>11</th>\n",
       "      <td>l2</td>\n",
       "      <td>1</td>\n",
       "      <td>0.788498</td>\n",
       "    </tr>\n",
       "    <tr>\n",
       "      <th>15</th>\n",
       "      <td>l2</td>\n",
       "      <td>100</td>\n",
       "      <td>0.788498</td>\n",
       "    </tr>\n",
       "    <tr>\n",
       "      <th>17</th>\n",
       "      <td>l2</td>\n",
       "      <td>1000</td>\n",
       "      <td>0.788498</td>\n",
       "    </tr>\n",
       "    <tr>\n",
       "      <th>19</th>\n",
       "      <td>l2</td>\n",
       "      <td>10000</td>\n",
       "      <td>0.788498</td>\n",
       "    </tr>\n",
       "    <tr>\n",
       "      <th>13</th>\n",
       "      <td>l2</td>\n",
       "      <td>10</td>\n",
       "      <td>0.787089</td>\n",
       "    </tr>\n",
       "    <tr>\n",
       "      <th>7</th>\n",
       "      <td>l2</td>\n",
       "      <td>0.01</td>\n",
       "      <td>0.721440</td>\n",
       "    </tr>\n",
       "    <tr>\n",
       "      <th>5</th>\n",
       "      <td>l2</td>\n",
       "      <td>0.001</td>\n",
       "      <td>0.662461</td>\n",
       "    </tr>\n",
       "    <tr>\n",
       "      <th>3</th>\n",
       "      <td>l2</td>\n",
       "      <td>0.0001</td>\n",
       "      <td>0.654030</td>\n",
       "    </tr>\n",
       "    <tr>\n",
       "      <th>1</th>\n",
       "      <td>l2</td>\n",
       "      <td>1e-05</td>\n",
       "      <td>0.645638</td>\n",
       "    </tr>\n",
       "    <tr>\n",
       "      <th>0</th>\n",
       "      <td>l1</td>\n",
       "      <td>1e-05</td>\n",
       "      <td>NaN</td>\n",
       "    </tr>\n",
       "    <tr>\n",
       "      <th>2</th>\n",
       "      <td>l1</td>\n",
       "      <td>0.0001</td>\n",
       "      <td>NaN</td>\n",
       "    </tr>\n",
       "    <tr>\n",
       "      <th>4</th>\n",
       "      <td>l1</td>\n",
       "      <td>0.001</td>\n",
       "      <td>NaN</td>\n",
       "    </tr>\n",
       "    <tr>\n",
       "      <th>6</th>\n",
       "      <td>l1</td>\n",
       "      <td>0.01</td>\n",
       "      <td>NaN</td>\n",
       "    </tr>\n",
       "    <tr>\n",
       "      <th>8</th>\n",
       "      <td>l1</td>\n",
       "      <td>0.1</td>\n",
       "      <td>NaN</td>\n",
       "    </tr>\n",
       "    <tr>\n",
       "      <th>10</th>\n",
       "      <td>l1</td>\n",
       "      <td>1</td>\n",
       "      <td>NaN</td>\n",
       "    </tr>\n",
       "    <tr>\n",
       "      <th>12</th>\n",
       "      <td>l1</td>\n",
       "      <td>10</td>\n",
       "      <td>NaN</td>\n",
       "    </tr>\n",
       "    <tr>\n",
       "      <th>14</th>\n",
       "      <td>l1</td>\n",
       "      <td>100</td>\n",
       "      <td>NaN</td>\n",
       "    </tr>\n",
       "    <tr>\n",
       "      <th>16</th>\n",
       "      <td>l1</td>\n",
       "      <td>1000</td>\n",
       "      <td>NaN</td>\n",
       "    </tr>\n",
       "    <tr>\n",
       "      <th>18</th>\n",
       "      <td>l1</td>\n",
       "      <td>10000</td>\n",
       "      <td>NaN</td>\n",
       "    </tr>\n",
       "  </tbody>\n",
       "</table>\n",
       "</div>"
      ],
      "text/plain": [
       "   param_penalty param_C  mean_test_score\n",
       "9             l2     0.1         0.794210\n",
       "11            l2       1         0.788498\n",
       "15            l2     100         0.788498\n",
       "17            l2    1000         0.788498\n",
       "19            l2   10000         0.788498\n",
       "13            l2      10         0.787089\n",
       "7             l2    0.01         0.721440\n",
       "5             l2   0.001         0.662461\n",
       "3             l2  0.0001         0.654030\n",
       "1             l2   1e-05         0.645638\n",
       "0             l1   1e-05              NaN\n",
       "2             l1  0.0001              NaN\n",
       "4             l1   0.001              NaN\n",
       "6             l1    0.01              NaN\n",
       "8             l1     0.1              NaN\n",
       "10            l1       1              NaN\n",
       "12            l1      10              NaN\n",
       "14            l1     100              NaN\n",
       "16            l1    1000              NaN\n",
       "18            l1   10000              NaN"
      ]
     },
     "execution_count": 31,
     "metadata": {},
     "output_type": "execute_result"
    }
   ],
   "source": [
    "df = df[['param_penalty','param_C', 'mean_test_score']]\n",
    "df = df.sort_values(by='mean_test_score', ascending = False)\n",
    "df"
   ]
  },
  {
   "cell_type": "code",
   "execution_count": 32,
   "metadata": {},
   "outputs": [
    {
     "data": {
      "image/png": "[encoded data removed]",
      "text/plain": [
       "<Figure size 648x432 with 1 Axes>"
      ]
     },
     "metadata": {},
     "output_type": "display_data"
    }
   ],
   "source": [
    "plt.style.use('fivethirtyeight')\n",
    "plt.figure(figsize=(9,6))\n",
    "\n",
    "sns.scatterplot(x = 'param_C', y = 'mean_test_score', hue = 'param_penalty', data = df[0:10], s=200)\n",
    "plt.xscale('symlog')\n",
    "plt.ylim((0.6,1))\n",
    "\n",
    "plt.show()"
   ]
  },
  {
   "cell_type": "markdown",
   "metadata": {},
   "source": [
    "## 2.2. Random Search"
   ]
  },
  {
   "cell_type": "code",
   "execution_count": 33,
   "metadata": {},
   "outputs": [],
   "source": [
    "parameters = {\"C\": [10 ** x for x in range (-5, 5, 1)],\n",
    "              \"penalty\": ['l1', 'l2']\n",
    "             }"
   ]
  },
  {
   "cell_type": "code",
   "execution_count": 34,
   "metadata": {},
   "outputs": [
    {
     "data": {
      "text/plain": [
       "RandomizedSearchCV(cv=10, estimator=LogisticRegression(),\n",
       "                   param_distributions={'C': [1e-05, 0.0001, 0.001, 0.01, 0.1,\n",
       "                                              1, 10, 100, 1000, 10000],\n",
       "                                        'penalty': ['l1', 'l2']},\n",
       "                   random_state=111, scoring='precision')"
      ]
     },
     "execution_count": 34,
     "metadata": {},
     "output_type": "execute_result"
    }
   ],
   "source": [
    "from sklearn.model_selection import RandomizedSearchCV\n",
    "\n",
    "rs_cv = RandomizedSearchCV(estimator=log_reg,\n",
    "                           param_distributions = parameters,\n",
    "                           cv = 10,\n",
    "                           n_iter = 10,\n",
    "                           random_state = 111,\n",
    "                           scoring = 'precision'\n",
    "                      )\n",
    "\n",
    "rs_cv.fit(X, y)"
   ]
  },
  {
   "cell_type": "code",
   "execution_count": 35,
   "metadata": {},
   "outputs": [
    {
     "name": "stdout",
     "output_type": "stream",
     "text": [
      "Best parameters      :  {'penalty': 'l2', 'C': 1} \n",
      "\n",
      "All precision values :  [0.68913392 0.68728022 0.76035893 0.76431303        nan 0.76116352\n",
      "        nan        nan        nan        nan] \n",
      "\n",
      "Best precision value :  0.7643130270182369\n"
     ]
    }
   ],
   "source": [
    "print(\"Best parameters      : \", rs_cv.best_params_, \"\\n\")\n",
    "print(\"All precision values : \", rs_cv.cv_results_['mean_test_score'], \"\\n\")\n",
    "print(\"Best precision value : \", rs_cv.best_score_)"
   ]
  },
  {
   "cell_type": "code",
   "execution_count": 36,
   "metadata": {},
   "outputs": [
    {
     "data": {
      "text/html": [
       "<div>\n",
       "<style scoped>\n",
       "    .dataframe tbody tr th:only-of-type {\n",
       "        vertical-align: middle;\n",
       "    }\n",
       "\n",
       "    .dataframe tbody tr th {\n",
       "        vertical-align: top;\n",
       "    }\n",
       "\n",
       "    .dataframe thead th {\n",
       "        text-align: right;\n",
       "    }\n",
       "</style>\n",
       "<table border=\"1\" class=\"dataframe\">\n",
       "  <thead>\n",
       "    <tr style=\"text-align: right;\">\n",
       "      <th></th>\n",
       "      <th>param_penalty</th>\n",
       "      <th>param_C</th>\n",
       "      <th>mean_test_score</th>\n",
       "    </tr>\n",
       "  </thead>\n",
       "  <tbody>\n",
       "    <tr>\n",
       "      <th>3</th>\n",
       "      <td>l2</td>\n",
       "      <td>1</td>\n",
       "      <td>0.764313</td>\n",
       "    </tr>\n",
       "    <tr>\n",
       "      <th>5</th>\n",
       "      <td>l2</td>\n",
       "      <td>1000</td>\n",
       "      <td>0.761164</td>\n",
       "    </tr>\n",
       "    <tr>\n",
       "      <th>2</th>\n",
       "      <td>l2</td>\n",
       "      <td>10</td>\n",
       "      <td>0.760359</td>\n",
       "    </tr>\n",
       "    <tr>\n",
       "      <th>0</th>\n",
       "      <td>l2</td>\n",
       "      <td>0.0001</td>\n",
       "      <td>0.689134</td>\n",
       "    </tr>\n",
       "    <tr>\n",
       "      <th>1</th>\n",
       "      <td>l2</td>\n",
       "      <td>0.001</td>\n",
       "      <td>0.687280</td>\n",
       "    </tr>\n",
       "    <tr>\n",
       "      <th>4</th>\n",
       "      <td>l1</td>\n",
       "      <td>100</td>\n",
       "      <td>NaN</td>\n",
       "    </tr>\n",
       "    <tr>\n",
       "      <th>6</th>\n",
       "      <td>l1</td>\n",
       "      <td>0.01</td>\n",
       "      <td>NaN</td>\n",
       "    </tr>\n",
       "    <tr>\n",
       "      <th>7</th>\n",
       "      <td>l1</td>\n",
       "      <td>0.001</td>\n",
       "      <td>NaN</td>\n",
       "    </tr>\n",
       "    <tr>\n",
       "      <th>8</th>\n",
       "      <td>l1</td>\n",
       "      <td>1000</td>\n",
       "      <td>NaN</td>\n",
       "    </tr>\n",
       "    <tr>\n",
       "      <th>9</th>\n",
       "      <td>l1</td>\n",
       "      <td>1e-05</td>\n",
       "      <td>NaN</td>\n",
       "    </tr>\n",
       "  </tbody>\n",
       "</table>\n",
       "</div>"
      ],
      "text/plain": [
       "  param_penalty param_C  mean_test_score\n",
       "3            l2       1         0.764313\n",
       "5            l2    1000         0.761164\n",
       "2            l2      10         0.760359\n",
       "0            l2  0.0001         0.689134\n",
       "1            l2   0.001         0.687280\n",
       "4            l1     100              NaN\n",
       "6            l1    0.01              NaN\n",
       "7            l1   0.001              NaN\n",
       "8            l1    1000              NaN\n",
       "9            l1   1e-05              NaN"
      ]
     },
     "execution_count": 36,
     "metadata": {},
     "output_type": "execute_result"
    }
   ],
   "source": [
    "results_rs = rs_cv.cv_results_\n",
    "\n",
    "df_rs = pd.DataFrame(results_rs)\n",
    "df_rs = df_rs[['param_penalty','param_C', 'mean_test_score']]\n",
    "df_rs = df_rs.sort_values(by='mean_test_score', ascending = False)\n",
    "\n",
    "df_rs"
   ]
  },
  {
   "cell_type": "code",
   "execution_count": 38,
   "metadata": {},
   "outputs": [
    {
     "data": {
      "image/png": "[encoded data removed]",
      "text/plain": [
       "<Figure size 648x432 with 1 Axes>"
      ]
     },
     "metadata": {},
     "output_type": "display_data"
    }
   ],
   "source": [
    "plt.style.use('fivethirtyeight')\n",
    "plt.figure(figsize=(9,6))\n",
    "\n",
    "sns.scatterplot(x = 'param_C', y = 'mean_test_score', hue = 'param_penalty', data = df_rs, s=200)\n",
    "plt.xscale('symlog')\n",
    "plt.ylim((0.6,0.8))\n",
    "\n",
    "plt.show()"
   ]
  },
  {
   "cell_type": "code",
   "execution_count": null,
   "metadata": {},
   "outputs": [],
   "source": []
  }
 ],
 "metadata": {
  "kernelspec": {
   "display_name": "Python 3",
   "language": "python",
   "name": "python3"
  },
  "language_info": {
   "codemirror_mode": {
    "name": "ipython",
    "version": 3
   },
   "file_extension": ".py",
   "mimetype": "text/x-python",
   "name": "python",
   "nbconvert_exporter": "python",
   "pygments_lexer": "ipython3",
   "version": "3.8.5"
  }
 },
 "nbformat": 4,
 "nbformat_minor": 4
}
