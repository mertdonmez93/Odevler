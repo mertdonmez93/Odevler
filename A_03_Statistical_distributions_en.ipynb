{
 "cells": [
  {
   "cell_type": "markdown",
   "metadata": {
    "id": "WZKNyc1bqZ9p"
   },
   "source": [
    "**(1)** By using distribution=np.random.name_distribution([],[]), write the name of distribution of your choice in place of `name_distribution`and fill out the bracket with your choice again. Then please, \n",
    "\n",
    "**(a)** Draw the histogram and interpretz"
   ]
  },
  {
   "cell_type": "code",
   "execution_count": 45,
   "metadata": {
    "id": "c0guZzMPqZ9p"
   },
   "outputs": [
    {
     "data": {
      "image/png": "[encoded data removed]",
      "text/plain": [
       "<Figure size 576x288 with 1 Axes>"
      ]
     },
     "metadata": {
      "needs_background": "light"
     },
     "output_type": "display_data"
    },
    {
     "name": "stdout",
     "output_type": "stream",
     "text": [
      "4.027925594019047\n",
      "-4.042899950730702\n",
      "-0.03173704561555268\n"
     ]
    }
   ],
   "source": [
    "import numpy as np\n",
    "import pandas as pd\n",
    "import matplotlib.pyplot as plt\n",
    "\n",
    "plt.figure(figsize=(8,4))\n",
    "data = np.random.normal(size=1000)\n",
    "plt.hist(data,density=True)\n",
    "plt.show()\n",
    "print(max(np.random.normal(size=1000)))\n",
    "print(min(np.random.normal(size=1000)))\n",
    "print(data.mean())"
   ]
  },
  {
   "cell_type": "markdown",
   "metadata": {
    "id": "aOTq_1NbqZ9q"
   },
   "source": [
    "**(b)** Draw Q-Q plot and interpret"
   ]
  },
  {
   "cell_type": "code",
   "execution_count": 56,
   "metadata": {
    "id": "tGtKMMN5qZ9q"
   },
   "outputs": [
    {
     "data": {
      "image/png": "[encoded data removed]",
      "text/plain": [
       "<Figure size 432x288 with 1 Axes>"
      ]
     },
     "metadata": {
      "needs_background": "light"
     },
     "output_type": "display_data"
    }
   ],
   "source": [
    "normally_distributed_data= np.random.normal(size=100)\n",
    "sample_dataset = np.random.rand(1,100)\n",
    "\n",
    "sample_dataset.sort()\n",
    "normally_distriuted_data.sort()\n",
    "\n",
    "plt.scatter(normally_distributed_data,sample_dataset)\n",
    "plt.plot([np.min(normally_distriuted_data),np.max(normally_distriuted_data)],\n",
    "         [np.min(sample_dataset),np.max(sample_dataset)])\n",
    "plt.show()"
   ]
  },
  {
   "cell_type": "markdown",
   "metadata": {},
   "source": [
    "Sample_dataset does not fully match with the distribution."
   ]
  },
  {
   "cell_type": "markdown",
   "metadata": {
    "id": "eUwxJUmPqZ9q"
   },
   "source": [
    "**(2)** Get the google stock quotes from 2015-2017 using https://finance.yahoo.com/. Using this data, calculate the stock return with the following formula:\n",
    "\n",
    "$$P_t-P_{t-1}/P_{t-1}$$\n",
    "\n",
    "where $P_t$ represents the stock price at time t and $P_{t-1}$ denotes the stock price at time t-1. What do you think about the return distribution? \n",
    "\n",
    "**Note:** Data is retrieved from https://finance.yahoo.com/ as follows. After clicking the given address, type the name of the stock you want to search in the search section (eg google). Click on the search result below to go to the relevant stock. When you get to the page with the relevant stock information, click the Historical Prices tab, select the relevant date range, then click Apply. Finally, click the Download Data button to download the data. Alternative you can use `yfinance` library"
   ]
  },
  {
   "cell_type": "code",
   "execution_count": 57,
   "metadata": {
    "id": "9pJ2Y3vfqZ9q"
   },
   "outputs": [],
   "source": [
    "df = pd.read_csv('GOOG.csv')"
   ]
  },
  {
   "cell_type": "code",
   "execution_count": 58,
   "metadata": {},
   "outputs": [
    {
     "data": {
      "text/html": [
       "<div>\n",
       "<style scoped>\n",
       "    .dataframe tbody tr th:only-of-type {\n",
       "        vertical-align: middle;\n",
       "    }\n",
       "\n",
       "    .dataframe tbody tr th {\n",
       "        vertical-align: top;\n",
       "    }\n",
       "\n",
       "    .dataframe thead th {\n",
       "        text-align: right;\n",
       "    }\n",
       "</style>\n",
       "<table border=\"1\" class=\"dataframe\">\n",
       "  <thead>\n",
       "    <tr style=\"text-align: right;\">\n",
       "      <th></th>\n",
       "      <th>Date</th>\n",
       "      <th>Open</th>\n",
       "      <th>High</th>\n",
       "      <th>Low</th>\n",
       "      <th>Close</th>\n",
       "      <th>Adj Close</th>\n",
       "      <th>Volume</th>\n",
       "    </tr>\n",
       "  </thead>\n",
       "  <tbody>\n",
       "    <tr>\n",
       "      <th>0</th>\n",
       "      <td>2015-01-02</td>\n",
       "      <td>527.561584</td>\n",
       "      <td>529.815369</td>\n",
       "      <td>522.665039</td>\n",
       "      <td>523.373108</td>\n",
       "      <td>523.373108</td>\n",
       "      <td>1447563</td>\n",
       "    </tr>\n",
       "    <tr>\n",
       "      <th>1</th>\n",
       "      <td>2015-01-05</td>\n",
       "      <td>521.827332</td>\n",
       "      <td>522.894409</td>\n",
       "      <td>511.655243</td>\n",
       "      <td>512.463013</td>\n",
       "      <td>512.463013</td>\n",
       "      <td>2059840</td>\n",
       "    </tr>\n",
       "    <tr>\n",
       "      <th>2</th>\n",
       "      <td>2015-01-06</td>\n",
       "      <td>513.589966</td>\n",
       "      <td>514.761719</td>\n",
       "      <td>499.678131</td>\n",
       "      <td>500.585632</td>\n",
       "      <td>500.585632</td>\n",
       "      <td>2899940</td>\n",
       "    </tr>\n",
       "    <tr>\n",
       "      <th>3</th>\n",
       "      <td>2015-01-07</td>\n",
       "      <td>505.611847</td>\n",
       "      <td>505.855164</td>\n",
       "      <td>498.281952</td>\n",
       "      <td>499.727997</td>\n",
       "      <td>499.727997</td>\n",
       "      <td>2065054</td>\n",
       "    </tr>\n",
       "    <tr>\n",
       "      <th>4</th>\n",
       "      <td>2015-01-08</td>\n",
       "      <td>496.626526</td>\n",
       "      <td>502.101471</td>\n",
       "      <td>489.655640</td>\n",
       "      <td>501.303680</td>\n",
       "      <td>501.303680</td>\n",
       "      <td>3353582</td>\n",
       "    </tr>\n",
       "  </tbody>\n",
       "</table>\n",
       "</div>"
      ],
      "text/plain": [
       "         Date        Open        High         Low       Close   Adj Close  \\\n",
       "0  2015-01-02  527.561584  529.815369  522.665039  523.373108  523.373108   \n",
       "1  2015-01-05  521.827332  522.894409  511.655243  512.463013  512.463013   \n",
       "2  2015-01-06  513.589966  514.761719  499.678131  500.585632  500.585632   \n",
       "3  2015-01-07  505.611847  505.855164  498.281952  499.727997  499.727997   \n",
       "4  2015-01-08  496.626526  502.101471  489.655640  501.303680  501.303680   \n",
       "\n",
       "    Volume  \n",
       "0  1447563  \n",
       "1  2059840  \n",
       "2  2899940  \n",
       "3  2065054  \n",
       "4  3353582  "
      ]
     },
     "execution_count": 58,
     "metadata": {},
     "output_type": "execute_result"
    }
   ],
   "source": [
    "df.head()"
   ]
  },
  {
   "cell_type": "code",
   "execution_count": 65,
   "metadata": {},
   "outputs": [
    {
     "data": {
      "text/plain": [
       "0           NaN\n",
       "1     -0.020846\n",
       "2     -0.023177\n",
       "3     -0.001713\n",
       "4      0.003153\n",
       "         ...   \n",
       "750   -0.003300\n",
       "751   -0.003188\n",
       "752   -0.006974\n",
       "753   -0.001172\n",
       "754   -0.001660\n",
       "Name: Adj Close, Length: 755, dtype: float64"
      ]
     },
     "execution_count": 65,
     "metadata": {},
     "output_type": "execute_result"
    }
   ],
   "source": [
    "daily_return = df[\"Adj Close\"].pct_change()\n",
    "daily_return"
   ]
  },
  {
   "cell_type": "code",
   "execution_count": 66,
   "metadata": {},
   "outputs": [
    {
     "data": {
      "image/png": "[encoded data removed]",
      "text/plain": [
       "<Figure size 432x288 with 1 Axes>"
      ]
     },
     "metadata": {
      "needs_background": "light"
     },
     "output_type": "display_data"
    }
   ],
   "source": [
    "standart_normal_dist = np.random.normal(0,1,len(daily_return))\n",
    "standart_normal_dist.sort()\n",
    "\n",
    "plt.plot(standart_normal_dist,daily_return)\n",
    "plt.xlabel('Standart Normal Dist')\n",
    "plt.ylabel('Google daily return')\n",
    "plt.show()"
   ]
  },
  {
   "cell_type": "code",
   "execution_count": null,
   "metadata": {},
   "outputs": [],
   "source": []
  }
 ],
 "metadata": {
  "colab": {
   "name": "A_03_Statistical_distributions_en.ipynb",
   "provenance": []
  },
  "kernelspec": {
   "display_name": "Python 3",
   "language": "python",
   "name": "python3"
  },
  "language_info": {
   "codemirror_mode": {
    "name": "ipython",
    "version": 3
   },
   "file_extension": ".py",
   "mimetype": "text/x-python",
   "name": "python",
   "nbconvert_exporter": "python",
   "pygments_lexer": "ipython3",
   "version": "3.8.5"
  }
 },
 "nbformat": 4,
 "nbformat_minor": 4
}
