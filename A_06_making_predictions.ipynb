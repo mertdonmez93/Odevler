{
 "cells": [
  {
   "cell_type": "markdown",
   "metadata": {
    "id": "nrU5MgD5Akvk"
   },
   "source": [
    "# <font color=blue>Assignments for \"Making Predictions\"</font>"
   ]
  },
  {
   "cell_type": "markdown",
   "metadata": {
    "id": "C1zYC_ifAkv1"
   },
   "source": [
    "In this exercise, you'll predict house prices using your model. To complete this assignment, submit a link to a Jupyter notebook containing your solutions to the following tasks:"
   ]
  },
  {
   "cell_type": "code",
   "execution_count": 1,
   "metadata": {
    "id": "ZCa3VDcTAkv1",
    "outputId": "6603c20c-30e3-4f69-aec0-7d0861e2fe4d"
   },
   "outputs": [
    {
     "data": {
      "text/html": [
       "<div>\n",
       "<style scoped>\n",
       "    .dataframe tbody tr th:only-of-type {\n",
       "        vertical-align: middle;\n",
       "    }\n",
       "\n",
       "    .dataframe tbody tr th {\n",
       "        vertical-align: top;\n",
       "    }\n",
       "\n",
       "    .dataframe thead th {\n",
       "        text-align: right;\n",
       "    }\n",
       "</style>\n",
       "<table border=\"1\" class=\"dataframe\">\n",
       "  <thead>\n",
       "    <tr style=\"text-align: right;\">\n",
       "      <th></th>\n",
       "      <th>Id</th>\n",
       "      <th>MSSubClass</th>\n",
       "      <th>MSZoning</th>\n",
       "      <th>LotFrontage</th>\n",
       "      <th>LotArea</th>\n",
       "      <th>Street</th>\n",
       "      <th>Alley</th>\n",
       "      <th>LotShape</th>\n",
       "      <th>LandContour</th>\n",
       "      <th>Utilities</th>\n",
       "      <th>...</th>\n",
       "      <th>PoolArea</th>\n",
       "      <th>PoolQC</th>\n",
       "      <th>Fence</th>\n",
       "      <th>MiscFeature</th>\n",
       "      <th>MiscVal</th>\n",
       "      <th>MoSold</th>\n",
       "      <th>YrSold</th>\n",
       "      <th>SaleType</th>\n",
       "      <th>SaleCondition</th>\n",
       "      <th>SalePrice</th>\n",
       "    </tr>\n",
       "  </thead>\n",
       "  <tbody>\n",
       "    <tr>\n",
       "      <th>0</th>\n",
       "      <td>1</td>\n",
       "      <td>60</td>\n",
       "      <td>RL</td>\n",
       "      <td>65.000</td>\n",
       "      <td>8450</td>\n",
       "      <td>Pave</td>\n",
       "      <td>NaN</td>\n",
       "      <td>Reg</td>\n",
       "      <td>Lvl</td>\n",
       "      <td>AllPub</td>\n",
       "      <td>...</td>\n",
       "      <td>0</td>\n",
       "      <td>NaN</td>\n",
       "      <td>NaN</td>\n",
       "      <td>NaN</td>\n",
       "      <td>0</td>\n",
       "      <td>2</td>\n",
       "      <td>2008</td>\n",
       "      <td>WD</td>\n",
       "      <td>Normal</td>\n",
       "      <td>208500</td>\n",
       "    </tr>\n",
       "    <tr>\n",
       "      <th>1</th>\n",
       "      <td>2</td>\n",
       "      <td>20</td>\n",
       "      <td>RL</td>\n",
       "      <td>80.000</td>\n",
       "      <td>9600</td>\n",
       "      <td>Pave</td>\n",
       "      <td>NaN</td>\n",
       "      <td>Reg</td>\n",
       "      <td>Lvl</td>\n",
       "      <td>AllPub</td>\n",
       "      <td>...</td>\n",
       "      <td>0</td>\n",
       "      <td>NaN</td>\n",
       "      <td>NaN</td>\n",
       "      <td>NaN</td>\n",
       "      <td>0</td>\n",
       "      <td>5</td>\n",
       "      <td>2007</td>\n",
       "      <td>WD</td>\n",
       "      <td>Normal</td>\n",
       "      <td>181500</td>\n",
       "    </tr>\n",
       "    <tr>\n",
       "      <th>2</th>\n",
       "      <td>3</td>\n",
       "      <td>60</td>\n",
       "      <td>RL</td>\n",
       "      <td>68.000</td>\n",
       "      <td>11250</td>\n",
       "      <td>Pave</td>\n",
       "      <td>NaN</td>\n",
       "      <td>IR1</td>\n",
       "      <td>Lvl</td>\n",
       "      <td>AllPub</td>\n",
       "      <td>...</td>\n",
       "      <td>0</td>\n",
       "      <td>NaN</td>\n",
       "      <td>NaN</td>\n",
       "      <td>NaN</td>\n",
       "      <td>0</td>\n",
       "      <td>9</td>\n",
       "      <td>2008</td>\n",
       "      <td>WD</td>\n",
       "      <td>Normal</td>\n",
       "      <td>223500</td>\n",
       "    </tr>\n",
       "    <tr>\n",
       "      <th>3</th>\n",
       "      <td>4</td>\n",
       "      <td>70</td>\n",
       "      <td>RL</td>\n",
       "      <td>60.000</td>\n",
       "      <td>9550</td>\n",
       "      <td>Pave</td>\n",
       "      <td>NaN</td>\n",
       "      <td>IR1</td>\n",
       "      <td>Lvl</td>\n",
       "      <td>AllPub</td>\n",
       "      <td>...</td>\n",
       "      <td>0</td>\n",
       "      <td>NaN</td>\n",
       "      <td>NaN</td>\n",
       "      <td>NaN</td>\n",
       "      <td>0</td>\n",
       "      <td>2</td>\n",
       "      <td>2006</td>\n",
       "      <td>WD</td>\n",
       "      <td>Abnorml</td>\n",
       "      <td>140000</td>\n",
       "    </tr>\n",
       "    <tr>\n",
       "      <th>4</th>\n",
       "      <td>5</td>\n",
       "      <td>60</td>\n",
       "      <td>RL</td>\n",
       "      <td>84.000</td>\n",
       "      <td>14260</td>\n",
       "      <td>Pave</td>\n",
       "      <td>NaN</td>\n",
       "      <td>IR1</td>\n",
       "      <td>Lvl</td>\n",
       "      <td>AllPub</td>\n",
       "      <td>...</td>\n",
       "      <td>0</td>\n",
       "      <td>NaN</td>\n",
       "      <td>NaN</td>\n",
       "      <td>NaN</td>\n",
       "      <td>0</td>\n",
       "      <td>12</td>\n",
       "      <td>2008</td>\n",
       "      <td>WD</td>\n",
       "      <td>Normal</td>\n",
       "      <td>250000</td>\n",
       "    </tr>\n",
       "  </tbody>\n",
       "</table>\n",
       "<p>5 rows × 81 columns</p>\n",
       "</div>"
      ],
      "text/plain": [
       "   Id  MSSubClass MSZoning  LotFrontage  LotArea Street Alley LotShape  \\\n",
       "0   1          60       RL       65.000     8450   Pave   NaN      Reg   \n",
       "1   2          20       RL       80.000     9600   Pave   NaN      Reg   \n",
       "2   3          60       RL       68.000    11250   Pave   NaN      IR1   \n",
       "3   4          70       RL       60.000     9550   Pave   NaN      IR1   \n",
       "4   5          60       RL       84.000    14260   Pave   NaN      IR1   \n",
       "\n",
       "  LandContour Utilities  ... PoolArea PoolQC Fence MiscFeature MiscVal MoSold  \\\n",
       "0         Lvl    AllPub  ...        0    NaN   NaN         NaN       0      2   \n",
       "1         Lvl    AllPub  ...        0    NaN   NaN         NaN       0      5   \n",
       "2         Lvl    AllPub  ...        0    NaN   NaN         NaN       0      9   \n",
       "3         Lvl    AllPub  ...        0    NaN   NaN         NaN       0      2   \n",
       "4         Lvl    AllPub  ...        0    NaN   NaN         NaN       0     12   \n",
       "\n",
       "  YrSold  SaleType  SaleCondition  SalePrice  \n",
       "0   2008        WD         Normal     208500  \n",
       "1   2007        WD         Normal     181500  \n",
       "2   2008        WD         Normal     223500  \n",
       "3   2006        WD        Abnorml     140000  \n",
       "4   2008        WD         Normal     250000  \n",
       "\n",
       "[5 rows x 81 columns]"
      ]
     },
     "execution_count": 1,
     "metadata": {},
     "output_type": "execute_result"
    }
   ],
   "source": [
    "import matplotlib.pyplot as plt\n",
    "import numpy as np\n",
    "import pandas as pd\n",
    "from sklearn.linear_model import LinearRegression\n",
    "from sklearn.model_selection import train_test_split\n",
    "from sklearn.metrics import mean_absolute_error\n",
    "import statsmodels.api as sm\n",
    "from statsmodels.tools.eval_measures import mse, rmse\n",
    "font = {'family': 'arial',\n",
    "        'color':  'darkred',\n",
    "        'weight': 'normal',\n",
    "        'size': 14,\n",
    "        }\n",
    "\n",
    "# Display preferences.\n",
    "%matplotlib inline\n",
    "pd.options.display.float_format = '{:.3f}'.format\n",
    "\n",
    "import warnings\n",
    "warnings.filterwarnings(action=\"ignore\")\n",
    "house_prices_df = pd.read_csv(\"https://djl-lms-assets.s3.eu-central-1.amazonaws.com/datasets/house_prices.csv\", sep = \";\")\n",
    "house_prices_df.head()"
   ]
  },
  {
   "cell_type": "markdown",
   "metadata": {
    "id": "lLZGm5RiAkv3"
   },
   "source": [
    "- Split your data into train and test sets."
   ]
  },
  {
   "cell_type": "code",
   "execution_count": 28,
   "metadata": {
    "id": "52lAA3OPAkv4"
   },
   "outputs": [],
   "source": [
    "# Y is the target variable\n",
    "y = house_prices_df['SalePrice']\n",
    "# X is the feature set\n",
    "X = house_prices_df[['OverallQual', 'TotalBsmtSF','1stFlrSF','GrLivArea','GarageCars','GarageArea','YearBuilt']]\n"
   ]
  },
  {
   "cell_type": "code",
   "execution_count": 3,
   "metadata": {},
   "outputs": [
    {
     "name": "stdout",
     "output_type": "stream",
     "text": [
      "The number of observations in training set is 1168\n",
      "The number of observations in test set is 292\n"
     ]
    }
   ],
   "source": [
    "X_train, X_test, y_train, y_test = train_test_split(X, y, test_size = 0.2, random_state = 465)\n",
    "\n",
    "print(\"The number of observations in training set is {}\".format(X_train.shape[0]))\n",
    "print(\"The number of observations in test set is {}\".format(X_test.shape[0]))"
   ]
  },
  {
   "cell_type": "markdown",
   "metadata": {
    "id": "V7w3lQZxAkv4"
   },
   "source": [
    "- Estimate your model from the previous lesson in the train set. Assess the goodness of fit of your model."
   ]
  },
  {
   "cell_type": "code",
   "execution_count": 4,
   "metadata": {
    "id": "69gqIMgUAkv5"
   },
   "outputs": [
    {
     "data": {
      "text/html": [
       "<table class=\"simpletable\">\n",
       "<caption>OLS Regression Results</caption>\n",
       "<tr>\n",
       "  <th>Dep. Variable:</th>        <td>SalePrice</td>    <th>  R-squared:         </th> <td>   0.770</td> \n",
       "</tr>\n",
       "<tr>\n",
       "  <th>Model:</th>                   <td>OLS</td>       <th>  Adj. R-squared:    </th> <td>   0.769</td> \n",
       "</tr>\n",
       "<tr>\n",
       "  <th>Method:</th>             <td>Least Squares</td>  <th>  F-statistic:       </th> <td>   693.0</td> \n",
       "</tr>\n",
       "<tr>\n",
       "  <th>Date:</th>             <td>Sun, 09 May 2021</td> <th>  Prob (F-statistic):</th>  <td>  0.00</td>  \n",
       "</tr>\n",
       "<tr>\n",
       "  <th>Time:</th>                 <td>23:49:08</td>     <th>  Log-Likelihood:    </th> <td> -17472.</td> \n",
       "</tr>\n",
       "<tr>\n",
       "  <th>No. Observations:</th>      <td>  1460</td>      <th>  AIC:               </th> <td>3.496e+04</td>\n",
       "</tr>\n",
       "<tr>\n",
       "  <th>Df Residuals:</th>          <td>  1452</td>      <th>  BIC:               </th> <td>3.500e+04</td>\n",
       "</tr>\n",
       "<tr>\n",
       "  <th>Df Model:</th>              <td>     7</td>      <th>                     </th>     <td> </td>    \n",
       "</tr>\n",
       "<tr>\n",
       "  <th>Covariance Type:</th>      <td>nonrobust</td>    <th>                     </th>     <td> </td>    \n",
       "</tr>\n",
       "</table>\n",
       "<table class=\"simpletable\">\n",
       "<tr>\n",
       "       <td></td>          <th>coef</th>     <th>std err</th>      <th>t</th>      <th>P>|t|</th>  <th>[0.025</th>    <th>0.975]</th>  \n",
       "</tr>\n",
       "<tr>\n",
       "  <th>const</th>       <td>-6.942e+05</td> <td> 8.49e+04</td> <td>   -8.174</td> <td> 0.000</td> <td>-8.61e+05</td> <td>-5.28e+05</td>\n",
       "</tr>\n",
       "<tr>\n",
       "  <th>OverallQual</th> <td> 2.079e+04</td> <td> 1160.683</td> <td>   17.916</td> <td> 0.000</td> <td> 1.85e+04</td> <td> 2.31e+04</td>\n",
       "</tr>\n",
       "<tr>\n",
       "  <th>TotalBsmtSF</th> <td>   20.2475</td> <td>    4.290</td> <td>    4.720</td> <td> 0.000</td> <td>   11.833</td> <td>   28.662</td>\n",
       "</tr>\n",
       "<tr>\n",
       "  <th>1stFlrSF</th>    <td>   13.4436</td> <td>    4.962</td> <td>    2.709</td> <td> 0.007</td> <td>    3.710</td> <td>   23.177</td>\n",
       "</tr>\n",
       "<tr>\n",
       "  <th>GrLivArea</th>   <td>   48.0007</td> <td>    2.727</td> <td>   17.599</td> <td> 0.000</td> <td>   42.650</td> <td>   53.351</td>\n",
       "</tr>\n",
       "<tr>\n",
       "  <th>GarageCars</th>  <td> 9969.4283</td> <td> 3040.904</td> <td>    3.278</td> <td> 0.001</td> <td> 4004.393</td> <td> 1.59e+04</td>\n",
       "</tr>\n",
       "<tr>\n",
       "  <th>GarageArea</th>  <td>   16.8085</td> <td>   10.309</td> <td>    1.631</td> <td> 0.103</td> <td>   -3.413</td> <td>   37.030</td>\n",
       "</tr>\n",
       "<tr>\n",
       "  <th>YearBuilt</th>   <td>  310.9118</td> <td>   44.563</td> <td>    6.977</td> <td> 0.000</td> <td>  223.496</td> <td>  398.327</td>\n",
       "</tr>\n",
       "</table>\n",
       "<table class=\"simpletable\">\n",
       "<tr>\n",
       "  <th>Omnibus:</th>       <td>449.404</td> <th>  Durbin-Watson:     </th> <td>   1.981</td> \n",
       "</tr>\n",
       "<tr>\n",
       "  <th>Prob(Omnibus):</th> <td> 0.000</td>  <th>  Jarque-Bera (JB):  </th> <td>48372.513</td>\n",
       "</tr>\n",
       "<tr>\n",
       "  <th>Skew:</th>          <td>-0.326</td>  <th>  Prob(JB):          </th> <td>    0.00</td> \n",
       "</tr>\n",
       "<tr>\n",
       "  <th>Kurtosis:</th>      <td>31.191</td>  <th>  Cond. No.          </th> <td>2.57e+05</td> \n",
       "</tr>\n",
       "</table><br/><br/>Notes:<br/>[1] Standard Errors assume that the covariance matrix of the errors is correctly specified.<br/>[2] The condition number is large, 2.57e+05. This might indicate that there are<br/>strong multicollinearity or other numerical problems."
      ],
      "text/plain": [
       "<class 'statsmodels.iolib.summary.Summary'>\n",
       "\"\"\"\n",
       "                            OLS Regression Results                            \n",
       "==============================================================================\n",
       "Dep. Variable:              SalePrice   R-squared:                       0.770\n",
       "Model:                            OLS   Adj. R-squared:                  0.769\n",
       "Method:                 Least Squares   F-statistic:                     693.0\n",
       "Date:                Sun, 09 May 2021   Prob (F-statistic):               0.00\n",
       "Time:                        23:49:08   Log-Likelihood:                -17472.\n",
       "No. Observations:                1460   AIC:                         3.496e+04\n",
       "Df Residuals:                    1452   BIC:                         3.500e+04\n",
       "Df Model:                           7                                         \n",
       "Covariance Type:            nonrobust                                         \n",
       "===============================================================================\n",
       "                  coef    std err          t      P>|t|      [0.025      0.975]\n",
       "-------------------------------------------------------------------------------\n",
       "const       -6.942e+05   8.49e+04     -8.174      0.000   -8.61e+05   -5.28e+05\n",
       "OverallQual  2.079e+04   1160.683     17.916      0.000    1.85e+04    2.31e+04\n",
       "TotalBsmtSF    20.2475      4.290      4.720      0.000      11.833      28.662\n",
       "1stFlrSF       13.4436      4.962      2.709      0.007       3.710      23.177\n",
       "GrLivArea      48.0007      2.727     17.599      0.000      42.650      53.351\n",
       "GarageCars   9969.4283   3040.904      3.278      0.001    4004.393    1.59e+04\n",
       "GarageArea     16.8085     10.309      1.631      0.103      -3.413      37.030\n",
       "YearBuilt     310.9118     44.563      6.977      0.000     223.496     398.327\n",
       "==============================================================================\n",
       "Omnibus:                      449.404   Durbin-Watson:                   1.981\n",
       "Prob(Omnibus):                  0.000   Jarque-Bera (JB):            48372.513\n",
       "Skew:                          -0.326   Prob(JB):                         0.00\n",
       "Kurtosis:                      31.191   Cond. No.                     2.57e+05\n",
       "==============================================================================\n",
       "\n",
       "Notes:\n",
       "[1] Standard Errors assume that the covariance matrix of the errors is correctly specified.\n",
       "[2] The condition number is large, 2.57e+05. This might indicate that there are\n",
       "strong multicollinearity or other numerical problems.\n",
       "\"\"\""
      ]
     },
     "metadata": {},
     "output_type": "display_data"
    }
   ],
   "source": [
    "# We add constant to the model as it's a best practice\n",
    "X_train = sm.add_constant(X_train)\n",
    "# We fit an OLS model using statsmodels\n",
    "results1 = sm.OLS(y_train, X_train).fit()\n",
    "# We print the summary results\n",
    "display(results.summary())"
   ]
  },
  {
   "cell_type": "markdown",
   "metadata": {
    "id": "MTF3vWKbAkv5"
   },
   "source": [
    "- Predict the house prices in the test set and evaluate the performance of your model using the metrics we mentioned in this lesson."
   ]
  },
  {
   "cell_type": "code",
   "execution_count": 5,
   "metadata": {
    "id": "dc2KYhnBAkv5"
   },
   "outputs": [
    {
     "data": {
      "image/png": "[encoded data removed]",
      "text/plain": [
       "<Figure size 432x288 with 1 Axes>"
      ]
     },
     "metadata": {
      "needs_background": "light"
     },
     "output_type": "display_data"
    },
    {
     "name": "stdout",
     "output_type": "stream",
     "text": [
      "Mean absolute error of the prediction is: 26537.342642896794\n",
      "Mean squared error of the prediction is: 1615985315.2630439\n",
      "Root mean squared error of the prediction is: 40199.31983582613\n",
      "Mean absolute percentage error of the prediction is: 15.651951153659446\n"
     ]
    }
   ],
   "source": [
    "# We add constant to the model as it's a best practice\n",
    "# to do so everytime!\n",
    "X_test = sm.add_constant(X_test)\n",
    "\n",
    "# We are making predictions here\n",
    "y_preds = results.predict(X_test)\n",
    "\n",
    "plt.scatter(y_test, y_preds)\n",
    "plt.plot(y_test, y_test, color=\"red\")\n",
    "plt.xlabel(\"true values\", fontdict = font)\n",
    "plt.ylabel(\"predicted values\", fontdict = font)\n",
    "plt.title(\"Charges: true and predicted values\", fontdict = font)\n",
    "plt.show()\n",
    "\n",
    "print(\"Mean absolute error of the prediction is: {}\".format(mean_absolute_error(y_test, y_preds)))\n",
    "print(\"Mean squared error of the prediction is: {}\".format(mse(y_test, y_preds)))\n",
    "print(\"Root mean squared error of the prediction is: {}\".format(rmse(y_test, y_preds)))\n",
    "print(\"Mean absolute percentage error of the prediction is: {}\".format(np.mean(np.abs((y_test - y_preds) / y_test)) * 100))\n"
   ]
  },
  {
   "cell_type": "markdown",
   "metadata": {
    "id": "A6Vl4n77Akv5"
   },
   "source": [
    "- Is the performance of your model satisfactory? Why?"
   ]
  },
  {
   "cell_type": "markdown",
   "metadata": {
    "id": "B_U8taX9Akv6"
   },
   "source": [
    "**Performance of the model can be better because MSE value is very high.**"
   ]
  },
  {
   "cell_type": "markdown",
   "metadata": {
    "id": "qrIU6IyRAkv6"
   },
   "source": [
    "- Try to improve your model in terms of prediction performance by adding or removing some variables."
   ]
  },
  {
   "cell_type": "markdown",
   "metadata": {
    "id": "xy_p5Yq6Akv6"
   },
   "source": [
    "# Second model\n",
    "- 1stFlrSF: First Floor square feet\n",
    "- 2ndFlrSF: Second floor square feet\n",
    "\n",
    "I decided to addition these 2 variables and remove **1stFlrSF**,**GrLivArea**,**GarageArea**"
   ]
  },
  {
   "cell_type": "code",
   "execution_count": 6,
   "metadata": {},
   "outputs": [],
   "source": [
    "house_prices_df[\"TotalFlr\"] = house_prices_df[\"1stFlrSF\"] + house_prices_df[\"2ndFlrSF\"]"
   ]
  },
  {
   "cell_type": "code",
   "execution_count": 7,
   "metadata": {},
   "outputs": [],
   "source": [
    "XX = house_prices_df[['OverallQual', 'TotalBsmtSF','GarageCars','YearBuilt','TotalFlr']]"
   ]
  },
  {
   "cell_type": "code",
   "execution_count": 8,
   "metadata": {},
   "outputs": [
    {
     "name": "stdout",
     "output_type": "stream",
     "text": [
      "The number of observations in training set is 1168\n",
      "The number of observations in test set is 292\n"
     ]
    }
   ],
   "source": [
    "X2_train, X2_test, y2_train, y2_test = train_test_split(XX, y, test_size = 0.2, random_state = 465)\n",
    "\n",
    "print(\"The number of observations in training set is {}\".format(X2_train.shape[0]))\n",
    "print(\"The number of observations in test set is {}\".format(X2_test.shape[0]))"
   ]
  },
  {
   "cell_type": "code",
   "execution_count": 9,
   "metadata": {},
   "outputs": [
    {
     "data": {
      "text/html": [
       "<table class=\"simpletable\">\n",
       "<caption>OLS Regression Results</caption>\n",
       "<tr>\n",
       "  <th>Dep. Variable:</th>        <td>SalePrice</td>    <th>  R-squared:         </th> <td>   0.767</td> \n",
       "</tr>\n",
       "<tr>\n",
       "  <th>Model:</th>                   <td>OLS</td>       <th>  Adj. R-squared:    </th> <td>   0.766</td> \n",
       "</tr>\n",
       "<tr>\n",
       "  <th>Method:</th>             <td>Least Squares</td>  <th>  F-statistic:       </th> <td>   765.0</td> \n",
       "</tr>\n",
       "<tr>\n",
       "  <th>Date:</th>             <td>Sun, 09 May 2021</td> <th>  Prob (F-statistic):</th>  <td>  0.00</td>  \n",
       "</tr>\n",
       "<tr>\n",
       "  <th>Time:</th>                 <td>23:49:08</td>     <th>  Log-Likelihood:    </th> <td> -13962.</td> \n",
       "</tr>\n",
       "<tr>\n",
       "  <th>No. Observations:</th>      <td>  1168</td>      <th>  AIC:               </th> <td>2.794e+04</td>\n",
       "</tr>\n",
       "<tr>\n",
       "  <th>Df Residuals:</th>          <td>  1162</td>      <th>  BIC:               </th> <td>2.797e+04</td>\n",
       "</tr>\n",
       "<tr>\n",
       "  <th>Df Model:</th>              <td>     5</td>      <th>                     </th>     <td> </td>    \n",
       "</tr>\n",
       "<tr>\n",
       "  <th>Covariance Type:</th>      <td>nonrobust</td>    <th>                     </th>     <td> </td>    \n",
       "</tr>\n",
       "</table>\n",
       "<table class=\"simpletable\">\n",
       "<tr>\n",
       "       <td></td>          <th>coef</th>     <th>std err</th>      <th>t</th>      <th>P>|t|</th>  <th>[0.025</th>    <th>0.975]</th>  \n",
       "</tr>\n",
       "<tr>\n",
       "  <th>const</th>       <td>-6.416e+05</td> <td> 9.23e+04</td> <td>   -6.950</td> <td> 0.000</td> <td>-8.23e+05</td> <td> -4.6e+05</td>\n",
       "</tr>\n",
       "<tr>\n",
       "  <th>OverallQual</th> <td>  2.04e+04</td> <td> 1291.148</td> <td>   15.800</td> <td> 0.000</td> <td> 1.79e+04</td> <td> 2.29e+04</td>\n",
       "</tr>\n",
       "<tr>\n",
       "  <th>TotalBsmtSF</th> <td>   23.1159</td> <td>    3.089</td> <td>    7.483</td> <td> 0.000</td> <td>   17.055</td> <td>   29.177</td>\n",
       "</tr>\n",
       "<tr>\n",
       "  <th>GarageCars</th>  <td> 1.634e+04</td> <td> 2030.011</td> <td>    8.047</td> <td> 0.000</td> <td> 1.24e+04</td> <td> 2.03e+04</td>\n",
       "</tr>\n",
       "<tr>\n",
       "  <th>YearBuilt</th>   <td>  287.4664</td> <td>   48.546</td> <td>    5.921</td> <td> 0.000</td> <td>  192.218</td> <td>  382.715</td>\n",
       "</tr>\n",
       "<tr>\n",
       "  <th>TotalFlr</th>    <td>   51.2534</td> <td>    2.871</td> <td>   17.851</td> <td> 0.000</td> <td>   45.620</td> <td>   56.887</td>\n",
       "</tr>\n",
       "</table>\n",
       "<table class=\"simpletable\">\n",
       "<tr>\n",
       "  <th>Omnibus:</th>       <td>391.997</td> <th>  Durbin-Watson:     </th> <td>   1.923</td> \n",
       "</tr>\n",
       "<tr>\n",
       "  <th>Prob(Omnibus):</th> <td> 0.000</td>  <th>  Jarque-Bera (JB):  </th> <td>35028.752</td>\n",
       "</tr>\n",
       "<tr>\n",
       "  <th>Skew:</th>          <td>-0.561</td>  <th>  Prob(JB):          </th> <td>    0.00</td> \n",
       "</tr>\n",
       "<tr>\n",
       "  <th>Kurtosis:</th>      <td>29.805</td>  <th>  Cond. No.          </th> <td>2.29e+05</td> \n",
       "</tr>\n",
       "</table><br/><br/>Notes:<br/>[1] Standard Errors assume that the covariance matrix of the errors is correctly specified.<br/>[2] The condition number is large, 2.29e+05. This might indicate that there are<br/>strong multicollinearity or other numerical problems."
      ],
      "text/plain": [
       "<class 'statsmodels.iolib.summary.Summary'>\n",
       "\"\"\"\n",
       "                            OLS Regression Results                            \n",
       "==============================================================================\n",
       "Dep. Variable:              SalePrice   R-squared:                       0.767\n",
       "Model:                            OLS   Adj. R-squared:                  0.766\n",
       "Method:                 Least Squares   F-statistic:                     765.0\n",
       "Date:                Sun, 09 May 2021   Prob (F-statistic):               0.00\n",
       "Time:                        23:49:08   Log-Likelihood:                -13962.\n",
       "No. Observations:                1168   AIC:                         2.794e+04\n",
       "Df Residuals:                    1162   BIC:                         2.797e+04\n",
       "Df Model:                           5                                         \n",
       "Covariance Type:            nonrobust                                         \n",
       "===============================================================================\n",
       "                  coef    std err          t      P>|t|      [0.025      0.975]\n",
       "-------------------------------------------------------------------------------\n",
       "const       -6.416e+05   9.23e+04     -6.950      0.000   -8.23e+05    -4.6e+05\n",
       "OverallQual   2.04e+04   1291.148     15.800      0.000    1.79e+04    2.29e+04\n",
       "TotalBsmtSF    23.1159      3.089      7.483      0.000      17.055      29.177\n",
       "GarageCars   1.634e+04   2030.011      8.047      0.000    1.24e+04    2.03e+04\n",
       "YearBuilt     287.4664     48.546      5.921      0.000     192.218     382.715\n",
       "TotalFlr       51.2534      2.871     17.851      0.000      45.620      56.887\n",
       "==============================================================================\n",
       "Omnibus:                      391.997   Durbin-Watson:                   1.923\n",
       "Prob(Omnibus):                  0.000   Jarque-Bera (JB):            35028.752\n",
       "Skew:                          -0.561   Prob(JB):                         0.00\n",
       "Kurtosis:                      29.805   Cond. No.                     2.29e+05\n",
       "==============================================================================\n",
       "\n",
       "Notes:\n",
       "[1] Standard Errors assume that the covariance matrix of the errors is correctly specified.\n",
       "[2] The condition number is large, 2.29e+05. This might indicate that there are\n",
       "strong multicollinearity or other numerical problems.\n",
       "\"\"\""
      ]
     },
     "execution_count": 9,
     "metadata": {},
     "output_type": "execute_result"
    }
   ],
   "source": [
    "X2_train = sm.add_constant(X2_train)\n",
    "\n",
    "results2 = sm.OLS(y2_train, X2_train).fit()\n",
    "results2.summary()"
   ]
  },
  {
   "cell_type": "code",
   "execution_count": 13,
   "metadata": {},
   "outputs": [
    {
     "data": {
      "image/png": "[encoded data removed]",
      "text/plain": [
       "<Figure size 432x288 with 1 Axes>"
      ]
     },
     "metadata": {
      "needs_background": "light"
     },
     "output_type": "display_data"
    },
    {
     "name": "stdout",
     "output_type": "stream",
     "text": [
      "Mean absolute error of the prediction is: 26941.21690418463\n",
      "Mean squared error of the prediction is: 1689049696.6705992\n",
      "Root mean squared error of the prediction is: 41098.04979157283\n",
      "Mean absolute percentage error of the prediction is: 15.74479742385139\n"
     ]
    }
   ],
   "source": [
    "# We add constant to the model as it's a best practice\n",
    "# to do so everytime!\n",
    "X2_test = sm.add_constant(X2_test)\n",
    "\n",
    "# We are making predictions here\n",
    "y2_preds = results2.predict(X2_test)\n",
    "\n",
    "plt.scatter(y2_test, y2_preds)\n",
    "plt.plot(y2_test, y2_test, color=\"red\")\n",
    "plt.xlabel(\"true values\", fontdict = font)\n",
    "plt.ylabel(\"predicted values\", fontdict = font)\n",
    "plt.title(\"Charges: true and predicted values\", fontdict = font)\n",
    "plt.show()\n",
    "\n",
    "print(\"Mean absolute error of the prediction is: {}\".format(mean_absolute_error(y2_test, y2_preds)))\n",
    "print(\"Mean squared error of the prediction is: {}\".format(mse(y2_test, y2_preds)))\n",
    "print(\"Root mean squared error of the prediction is: {}\".format(rmse(y2_test, y2_preds)))\n",
    "print(\"Mean absolute percentage error of the prediction is: {}\".format(np.mean(np.abs((y2_test - y2_preds) / y2_test)) * 100))"
   ]
  },
  {
   "cell_type": "code",
   "execution_count": 11,
   "metadata": {},
   "outputs": [
    {
     "data": {
      "image/png": "[encoded data removed]",
      "text/plain": [
       "<Figure size 1440x432 with 2 Axes>"
      ]
     },
     "metadata": {
      "needs_background": "light"
     },
     "output_type": "display_data"
    }
   ],
   "source": [
    "plt.figure(figsize=(20, 6))\n",
    "plt.subplot(1,2,1)\n",
    "plt.scatter(y_test, y_preds)\n",
    "plt.plot(y_test, y_test, color = \"red\")\n",
    "plt.title(\"First Model Charges: true and predicted values\", fontdict = font)\n",
    "plt.xlabel(\"true values\", fontdict = font)\n",
    "plt.ylabel(\"predicted values\", fontdict = font)\n",
    "\n",
    "plt.subplot(122)\n",
    "plt.scatter(y2_test, y2_preds)\n",
    "plt.plot(y2_test, y2_test, color = \"red\")\n",
    "plt.title(\"Second Model Charges: true and predicted values\", fontdict = font)\n",
    "plt.xlabel(\"true values\", fontdict = font)\n",
    "plt.ylabel(\"predicted values\", fontdict = font)\n",
    "\n",
    "plt.show()"
   ]
  },
  {
   "cell_type": "code",
   "execution_count": 27,
   "metadata": {},
   "outputs": [],
   "source": [
    "mae1 = mean_absolute_error(y_test, y_preds)\n",
    "mse1 = mse(y_test, y_preds)\n",
    "rmse1 = rmse(y_test, y_preds)\n",
    "mape1 = (abs((y_test - y_preds)) / y_test).mean() * 100\n",
    "\n",
    "mae2 = mean_absolute_error(y2_test, y2_preds)\n",
    "mse2 = mse(y2_test, y2_preds)\n",
    "rmse2 = rmse(y2_test, y2_preds)\n",
    "mape2 = (abs((y2_test - y2_preds)) / y2_test).mean() * 100"
   ]
  },
  {
   "cell_type": "code",
   "execution_count": 26,
   "metadata": {},
   "outputs": [
    {
     "name": "stdout",
     "output_type": "stream",
     "text": [
      "Model 1 subtraction to Model 2:\n",
      "Mean absolute error difference : %1.52\n",
      "Mean squared error             : %4.52\n",
      "Root mean squared error        : %2.24\n",
      "Mean absolute percentage error : %0.59\n"
     ]
    }
   ],
   "source": [
    "print(\"Model 1 subtraction to Model 2:\")\n",
    "print(f\"Mean absolute error difference : %{100 * (mae2-mae1)/mae1:.2f}\") \n",
    "print(f\"Mean squared error             : %{100 * (mse2-mse1)/mse1:.2f}\")\n",
    "print(f\"Root mean squared error        : %{100 * (rmse2-rmse1)/rmse1:.2f}\")\n",
    "print(f\"Mean absolute percentage error : %{100 * (mape2-mape1)/mape1:.2f}\")"
   ]
  },
  {
   "cell_type": "markdown",
   "metadata": {},
   "source": [
    "1. **The test set performance** of the first model is better than model 2 with respect to all of the four metrics we use. Compared to the previous model, this second model seems to predict high values of the target worser. \n",
    "\n",
    "2. **Goodness of fit metrics:**\n",
    "**1st model:**\n",
    "- R-squared:0.770  Adj.R-squared:0.769\n",
    "- F-statistic:693.0\n",
    "- AIC:3.496  BIC:3.500\n",
    "\n",
    "**2nd model**\n",
    "- R-squared:0.767  Adj.R-squared:0.766\n",
    "- F-statistic:765.0\n",
    "- AIC: 2.794  BIC:2.797\n",
    "\n",
    "**Comparison:**\n",
    "- R-squared values: first model has the better values. However both are close and they are between on70-90% is ideal.\n",
    "- F-statistic: 2nd model has the best performance.\n",
    "- 2nd model AIC and BIC metrics are lower than first model. Which means 2nd model is fitted better than the first."
   ]
  }
 ],
 "metadata": {
  "colab": {
   "name": "A_06_making_predictions.ipynb",
   "provenance": []
  },
  "kernelspec": {
   "display_name": "Python 3",
   "language": "python",
   "name": "python3"
  },
  "language_info": {
   "codemirror_mode": {
    "name": "ipython",
    "version": 3
   },
   "file_extension": ".py",
   "mimetype": "text/x-python",
   "name": "python",
   "nbconvert_exporter": "python",
   "pygments_lexer": "ipython3",
   "version": "3.8.5"
  }
 },
 "nbformat": 4,
 "nbformat_minor": 1
}
