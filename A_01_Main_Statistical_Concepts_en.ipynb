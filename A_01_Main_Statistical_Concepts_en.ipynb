{
 "cells": [
  {
   "cell_type": "markdown",
   "metadata": {
    "id": "ZoIs4oFHtuj0"
   },
   "source": [
    "- Analyze the central tendency and distribution measurements with the mathematical formula given above and the built-in codes available in python through 3 different data that you will generate using the numpy library !!!"
   ]
  },
  {
   "cell_type": "code",
   "execution_count": 5,
   "metadata": {
    "colab": {
     "base_uri": "https://localhost:8080/"
    },
    "id": "EvJrnXxotuj-",
    "outputId": "e430db97-f2b0-43b0-b1b6-7b6b73bd4967"
   },
   "outputs": [
    {
     "name": "stdout",
     "output_type": "stream",
     "text": [
      "mean data1:   35.25\n",
      "mean data2:   67.47733719906098\n",
      "mean data3:   64.23410868663747\n"
     ]
    }
   ],
   "source": [
    "import numpy as np\n",
    "import pandas as pd\n",
    "\n",
    "df = pd.DataFrame()\n",
    "df['data1'] = [28, 42, 27, 24, 35, 54, 35, 37]\n",
    "data2 = np.random.normal(69,8,100)\n",
    "data3 = np.random.normal(64,5,100)\n",
    "\n",
    "sum(df['data1']) / len(df['data1'])\n",
    "sum(data2)/len(data2)\n",
    "y=sum(data3)/len(data3)\n",
    "\n",
    "print(\"mean data1:  \" ,np.mean(df['data1']))\n",
    "print(\"mean data2:  \" ,np.mean(data2))\n",
    "print(\"mean data3:  \" ,y)\n"
   ]
  },
  {
   "cell_type": "code",
   "execution_count": 23,
   "metadata": {},
   "outputs": [
    {
     "name": "stdout",
     "output_type": "stream",
     "text": [
      "median data1:  35.0\n",
      "median data2:  67.48603053721044\n",
      "median data3:  64.14584724161406\n",
      "count     8.000000\n",
      "mean     35.250000\n",
      "std       9.617692\n",
      "min      24.000000\n",
      "25%      27.750000\n",
      "50%      35.000000\n",
      "75%      38.250000\n",
      "max      54.000000\n",
      "Name: data1, dtype: float64\n",
      "35.0\n"
     ]
    }
   ],
   "source": [
    "import statistics\n",
    "print(\"median data1: \",statistics.median(df['data1']))\n",
    "print(\"median data2: \",np.median(data2))\n",
    "print(\"median data3: \",np.median(data3))\n",
    "print(df['data1'].describe())\n",
    "print(df['data1'].median())"
   ]
  },
  {
   "cell_type": "code",
   "execution_count": 52,
   "metadata": {},
   "outputs": [
    {
     "name": "stdout",
     "output_type": "stream",
     "text": [
      "35\n",
      "66.99106475157815\n",
      "66.48576561017863\n"
     ]
    }
   ],
   "source": [
    "print(statistics.mode(df['data1']))\n",
    "print(statistics.mode(data2))\n",
    "print(statistics.mode(data3))"
   ]
  },
  {
   "cell_type": "code",
   "execution_count": 59,
   "metadata": {},
   "outputs": [
    {
     "name": "stdout",
     "output_type": "stream",
     "text": [
      "[24 27 28 35 37 42 54]\n"
     ]
    },
    {
     "data": {
      "text/plain": [
       "array([51.86581529, 52.91135746, 54.6515194 , 54.95608019, 54.98394479,\n",
       "       55.38278883, 56.05256966, 56.2623831 , 56.3018133 , 56.42339087,\n",
       "       56.48217051, 56.83987595, 58.01332477, 58.11050358, 58.53431067,\n",
       "       59.15147827, 59.37873439, 59.59066142, 59.63122789, 59.745348  ,\n",
       "       59.85017671, 59.8905205 , 59.89541285, 59.98734009, 60.3304071 ,\n",
       "       60.99009444, 61.68948934, 61.95279137, 61.98954373, 62.51682398,\n",
       "       62.58077766, 63.00400392, 63.3469395 , 63.57422656, 64.06037387,\n",
       "       64.2774356 , 64.38572733, 64.99800792, 65.15910045, 65.18768144,\n",
       "       65.59597593, 65.60281177, 66.10253591, 66.21338155, 66.58254511,\n",
       "       66.70170621, 66.72043535, 66.91974768, 66.99106475, 67.48380759,\n",
       "       67.48825349, 67.54111698, 68.34581633, 68.34603368, 68.42375166,\n",
       "       68.52460364, 68.95277339, 69.03392474, 69.25483953, 69.29246913,\n",
       "       69.34318892, 69.45004348, 69.62050208, 69.71433622, 69.98607522,\n",
       "       70.11995135, 70.91723346, 71.01077336, 71.13894362, 71.57432508,\n",
       "       71.83419475, 72.00735183, 72.09016201, 72.41737031, 72.58120539,\n",
       "       72.77562584, 73.26664166, 73.52306455, 73.55443555, 73.58433875,\n",
       "       73.97831959, 74.28016692, 74.43689012, 74.49811451, 76.04053621,\n",
       "       76.07438932, 76.54915776, 76.94317405, 77.54859045, 77.99653203,\n",
       "       78.4827259 , 78.79066075, 79.17734132, 80.46897271, 82.01138218,\n",
       "       82.10950287, 84.1205328 , 84.97447374, 85.78027666, 87.90844951])"
      ]
     },
     "execution_count": 59,
     "metadata": {},
     "output_type": "execute_result"
    }
   ],
   "source": [
    "print(np.unique(df['data1']))\n",
    "np.unique(data2)"
   ]
  },
  {
   "cell_type": "code",
   "execution_count": 42,
   "metadata": {},
   "outputs": [
    {
     "data": {
      "text/plain": [
       "35"
      ]
     },
     "execution_count": 42,
     "metadata": {},
     "output_type": "execute_result"
    }
   ],
   "source": [
    "np.unique(df['data1'])\n",
    "(values, counts) = np.unique(df['data1'],return_counts=True)\n",
    "ind=np.argmax(counts)\n",
    "values[ind]"
   ]
  },
  {
   "cell_type": "code",
   "execution_count": 40,
   "metadata": {},
   "outputs": [
    {
     "name": "stdout",
     "output_type": "stream",
     "text": [
      "(array([24, 27, 28, 35, 37, 42, 54]), array([1, 1, 1, 2, 1, 1, 1]))\n",
      "3 index has a maximum value\n"
     ]
    }
   ],
   "source": [
    "print(np.unique(df['data1'],return_counts=True))\n",
    "print(np.argmax(counts),\"index has a maximum value\")"
   ]
  },
  {
   "cell_type": "markdown",
   "metadata": {},
   "source": [
    "distribution measurements"
   ]
  },
  {
   "cell_type": "code",
   "execution_count": 98,
   "metadata": {},
   "outputs": [
    {
     "name": "stdout",
     "output_type": "stream",
     "text": [
      "variance data1:  92.5\n",
      "variance data2:  63.87608915744011\n",
      "variance data3:  25.796030161091767\n"
     ]
    }
   ],
   "source": [
    "print(\"variance data1: \",np.var(df['data1'],ddof=1))\n",
    "print(\"variance data2: \",np.var(data2))\n",
    "print(\"variance data3: \",np.var(data3))"
   ]
  },
  {
   "cell_type": "code",
   "execution_count": 91,
   "metadata": {},
   "outputs": [
    {
     "name": "stdout",
     "output_type": "stream",
     "text": [
      "std dev data1:  9.617692030835672\n",
      "std dev data2:  7.9922518201968655\n",
      "std dev data3:  5.078979244010726\n"
     ]
    }
   ],
   "source": [
    "print(\"std dev data1: \",np.std(df['data1'],ddof=1)) #numpy\n",
    "print(\"std dev data2: \",data2.std()) #pandas\n",
    "print(\"std dev data3: \",data3.std())"
   ]
  },
  {
   "cell_type": "code",
   "execution_count": 100,
   "metadata": {},
   "outputs": [
    {
     "name": "stdout",
     "output_type": "stream",
     "text": [
      "standard error data1:  3.4003676271838605\n",
      "standard error data2:  0.7992251820196865\n",
      "standard error data3:  0.5078979244010726\n"
     ]
    }
   ],
   "source": [
    "print(\"standard error data1: \",np.std(df['data1'] ,ddof=1) / np.sqrt(len(df['data1'])))\n",
    "print(\"standard error data2: \",data2.std()/np.sqrt(len(data2)))\n",
    "print(\"standard error data3: \",data3.std()/np.sqrt(len(data3)))"
   ]
  },
  {
   "cell_type": "code",
   "execution_count": null,
   "metadata": {},
   "outputs": [],
   "source": []
  }
 ],
 "metadata": {
  "colab": {
   "name": "A_01_Main_Statistical_Concepts_en.ipynb",
   "provenance": []
  },
  "kernelspec": {
   "display_name": "Python 3",
   "language": "python",
   "name": "python3"
  },
  "language_info": {
   "codemirror_mode": {
    "name": "ipython",
    "version": 3
   },
   "file_extension": ".py",
   "mimetype": "text/x-python",
   "name": "python",
   "nbconvert_exporter": "python",
   "pygments_lexer": "ipython3",
   "version": "3.8.5"
  }
 },
 "nbformat": 4,
 "nbformat_minor": 1
}
