{
 "cells": [
  {
   "cell_type": "code",
   "execution_count": null,
   "metadata": {},
   "outputs": [],
   "source": [
    "f = open(\"istiklal_marsi.txt\",\"r\")"
   ]
  },
  {
   "cell_type": "code",
   "execution_count": 1,
   "metadata": {},
   "outputs": [
    {
     "name": "stdout",
     "output_type": "stream",
     "text": [
      "Korkma, sönmez bu şafaklarda yüzen al sancak;\n",
      "Sönmeden yurdumun üstünde tüten en son ocak.\n",
      "O benim milletimin yıldızıdır, parlayacak;\n",
      "O benimdir, o benim milletimindir ancak.\n"
     ]
    }
   ],
   "source": [
    "with open(\"istiklal_marsi.txt\",\"r\",encoding='utf8') as f:\n",
    "    line = f.read()\n",
    "print(line)"
   ]
  },
  {
   "cell_type": "code",
   "execution_count": 2,
   "metadata": {},
   "outputs": [
    {
     "name": "stdout",
     "output_type": "stream",
     "text": [
      "Korkma, sönmez bu şafaklarda yüzen al sancak;\n",
      "Sönmeden yurdumun üstünde tüten en son ocak.\n",
      "O benim milletimin yıldızıdır, parlayacak;\n",
      "O benimdir, o benim milletimindir ancak.\n",
      "Çatma, kurban olayım çehreni ey nazlı hilâl!\n",
      "Kahraman ırkıma bir gül... ne bu şiddet bu celâl?\n",
      "Sana olmaz dökülen kanlarımız sonra helâl,\n",
      "Hakkıdır, Hakk’a tapan, milletimin istiklâl.\n",
      "\n"
     ]
    }
   ],
   "source": [
    "with open(\"istiklal_marsi.txt\",'a') as f:\n",
    "    f.write('\\n')\n",
    "    f.write(\"Çatma, kurban olayım çehreni ey nazlı hilâl!\\n\")\n",
    "    f.write(\"Kahraman ırkıma bir gül... ne bu şiddet bu celâl?\\n\")\n",
    "    f.write(\"Sana olmaz dökülen kanlarımız sonra helâl,\\n\")\n",
    "    f.write(\"Hakkıdır, Hakk’a tapan, milletimin istiklâl.\\n\")\n",
    "with open(\"istiklal_marsi.txt\",\"r\",encoding='utf8') as f:\n",
    "    line = f.read()\n",
    "print(line)"
   ]
  },
  {
   "cell_type": "code",
   "execution_count": 18,
   "metadata": {},
   "outputs": [
    {
     "name": "stdout",
     "output_type": "stream",
     "text": [
      "8\n"
     ]
    }
   ],
   "source": [
    "with open(\"istiklal_marsi.txt\",'r') as f:\n",
    "    Counter = 0\n",
    "    Content = f.read() \n",
    "    CoList = Content.split(\"\\n\")\n",
    "    for i in CoList:\n",
    "        if i:\n",
    "            Counter += 1\n",
    "print(Counter)"
   ]
  },
  {
   "cell_type": "code",
   "execution_count": null,
   "metadata": {},
   "outputs": [],
   "source": []
  },
  {
   "cell_type": "code",
   "execution_count": null,
   "metadata": {},
   "outputs": [],
   "source": []
  },
  {
   "cell_type": "code",
   "execution_count": null,
   "metadata": {},
   "outputs": [],
   "source": []
  }
 ],
 "metadata": {
  "kernelspec": {
   "display_name": "Python 3",
   "language": "python",
   "name": "python3"
  },
  "language_info": {
   "codemirror_mode": {
    "name": "ipython",
    "version": 3
   },
   "file_extension": ".py",
   "mimetype": "text/x-python",
   "name": "python",
   "nbconvert_exporter": "python",
   "pygments_lexer": "ipython3",
   "version": "3.8.5"
  }
 },
 "nbformat": 4,
 "nbformat_minor": 4
}
