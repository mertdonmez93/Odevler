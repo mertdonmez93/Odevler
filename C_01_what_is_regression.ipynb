{
 "cells": [
  {
   "cell_type": "markdown",
   "metadata": {},
   "source": [
    "**Assignments for \"What is Regression\"**"
   ]
  },
  {
   "cell_type": "markdown",
   "metadata": {},
   "source": [
    "**(1)** Let's assume that you have World Bank data on financial, economic and social indicators for several countries. You want to measure the factors that affect the level of development in these countries. To this end, you decide to use per capita income as a proxy for the development level, which is defined as the national income divided by the population. You want to use some features in your dataset to predict per capita income. Is this task a classification or a regression task? Why?"
   ]
  },
  {
   "cell_type": "markdown",
   "metadata": {},
   "source": [
    "In this question our aim is predict per capita income which is an countious variable. This task is regression task because we are using regression for continuous outcome variables such as, stock price prediction, revenue prediction, weather forecasting, and demand prediction.."
   ]
  },
  {
   "cell_type": "markdown",
   "metadata": {},
   "source": [
    "**(2)** Which of the following arguments are false and why?\n",
    "\n",
    "1- OLS is a special type of linear regression models. **True**\n",
    "\n",
    "2- Regression models become useless if they don’t meet the assumptions of linear regression. **True**\n",
    "\n",
    "3- Estimation and prediction are the same thing in the context of linear regression models. **False:An estimator uses data to guess at a parameter while a predictor uses the data to guess at some random value that is not part of the dataset.**\n",
    "\n",
    "4- Linear regression model is only one kind of regression models. Regression problems can also be solved with \n",
    "other kind of models like Support Vector Machines or Random Forests. **True**"
   ]
  },
  {
   "cell_type": "markdown",
   "metadata": {},
   "source": [
    "**(3)** Assume that your project manager wants you to discover which free services your company offers make your customers buy more of your paid services. Formulate this task as a regression problem and write down the potential outcome and features that you’d like to work on."
   ]
  },
  {
   "cell_type": "markdown",
   "metadata": {},
   "source": [
    "y=𝛼+𝛽𝑥+𝜃𝑧\n",
    "\n",
    "y  = potential new customers\n",
    "\n",
    "𝛼  = bias term\n",
    "\n",
    "𝛽𝑥 = freeservice_1 * number of customers who tend to use it\n",
    "\n",
    "𝜃𝑧 = freeservice_2 * number of customers who tend to use it"
   ]
  }
 ],
 "metadata": {
  "kernelspec": {
   "display_name": "Python 3",
   "language": "python",
   "name": "python3"
  },
  "language_info": {
   "codemirror_mode": {
    "name": "ipython",
    "version": 3
   },
   "file_extension": ".py",
   "mimetype": "text/x-python",
   "name": "python",
   "nbconvert_exporter": "python",
   "pygments_lexer": "ipython3",
   "version": "3.8.5"
  }
 },
 "nbformat": 4,
 "nbformat_minor": 4
}
